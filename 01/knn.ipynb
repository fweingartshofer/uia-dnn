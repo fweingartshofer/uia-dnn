{
 "cells": [
  {
   "cell_type": "markdown",
   "source": [
    "# KNN\n",
    "Assumptions:\n",
    "- We are free to implement any distance function\n",
    "\n",
    "The following code is the implementation of the KNN algorithm.\n"
   ],
   "metadata": {
    "collapsed": false
   }
  },
  {
   "cell_type": "code",
   "execution_count": 72,
   "outputs": [],
   "source": [
    "import numpy as np\n",
    "from collections import Counter\n",
    "\n",
    "\n",
    "def euclidean_distance(x1, x2):\n",
    "    distance = 0.0\n",
    "    for i in range(len(x1) - 1):\n",
    "        distance += (x1[i] - x2[i]) ** 2\n",
    "    return np.sqrt(distance)\n",
    "\n",
    "\n",
    "class KNNClassifier:\n",
    "    def __init__(self, k=3, distance_func=euclidean_distance):\n",
    "        self.X_train = None\n",
    "        self.y_train = None\n",
    "        self.k = k\n",
    "        self.distance_function = distance_func\n",
    "\n",
    "    def fit(self, X_train, y_train):\n",
    "        self.X_train = X_train\n",
    "        self.y_train = y_train\n",
    "\n",
    "    def predict(self, X_test):\n",
    "        y_pred = [self._predict(x) for x in X_test]\n",
    "        return np.array(y_pred)\n",
    "\n",
    "    def _predict(self, x):\n",
    "        distances = [self.distance_function(x, x_train) for x_train in self.X_train]\n",
    "        k_indices = np.argsort(distances)[:self.k]\n",
    "        k_nearest_labels = [self.y_train[i] for i in k_indices]\n",
    "        most_common = Counter(k_nearest_labels).most_common(1)\n",
    "        return most_common[0][0]"
   ],
   "metadata": {
    "collapsed": false,
    "ExecuteTime": {
     "end_time": "2023-08-30T08:32:04.663816725Z",
     "start_time": "2023-08-30T08:32:04.622745209Z"
    }
   }
  },
  {
   "cell_type": "markdown",
   "source": [
    "## Using KNN\n",
    "The following section uses the knn algorithm that was implemented to predict diabetes based on the pima-indians-diabetes dataset."
   ],
   "metadata": {
    "collapsed": false
   }
  },
  {
   "cell_type": "code",
   "execution_count": 73,
   "outputs": [],
   "source": [
    "import pandas as pd\n",
    "\n",
    "df = pd.read_csv(\"./pima-indians-diabetes.csv\", header=None)\n",
    "df = df.apply(pd.to_numeric)\n",
    "X = df.iloc[:, :-1]\n",
    "y = df.iloc[:, -1]\n",
    "n = .70\n",
    "X_train = X.iloc[:int(len(df) * n)].to_numpy()\n",
    "y_train = y.iloc[:int(len(df) * n)].to_numpy()"
   ],
   "metadata": {
    "collapsed": false,
    "ExecuteTime": {
     "end_time": "2023-08-30T08:32:04.664190725Z",
     "start_time": "2023-08-30T08:32:04.663612719Z"
    }
   }
  },
  {
   "cell_type": "code",
   "execution_count": 74,
   "outputs": [],
   "source": [
    "X_test = X.iloc[:int(len(df) * (1 - n))].to_numpy()\n",
    "y_test = y.iloc[:int(len(df) * (1 - n))].to_numpy()"
   ],
   "metadata": {
    "collapsed": false,
    "ExecuteTime": {
     "end_time": "2023-08-30T08:32:04.664640153Z",
     "start_time": "2023-08-30T08:32:04.664015214Z"
    }
   }
  },
  {
   "cell_type": "code",
   "execution_count": 75,
   "outputs": [],
   "source": [
    "from lib import accuracy, recall, precision, f1\n",
    "\n",
    "def calculate_metrics(y_test, predictions):\n",
    "    TP = 0\n",
    "    TN = 0\n",
    "    FP = 0\n",
    "    FN = 0\n",
    "\n",
    "    for i in range(len(y_test)):\n",
    "        y = y_test[i]\n",
    "        pred = predictions[i]\n",
    "    \n",
    "        if y == 1 and pred == 1:\n",
    "            TP += 1\n",
    "    \n",
    "        if y == 0 and pred == 0:\n",
    "            TN += 1\n",
    "    \n",
    "        if y == 1 and pred == 0:\n",
    "            FN += 1\n",
    "    \n",
    "        if y == 0 and pred == 1:\n",
    "            FP += 1\n",
    "            \n",
    "    return accuracy(TP, TN, FP, FN), recall(TP, FN), precision(TP, FP), f1(TP, FP, FN)"
   ],
   "metadata": {
    "collapsed": false,
    "ExecuteTime": {
     "end_time": "2023-08-30T08:32:04.664805048Z",
     "start_time": "2023-08-30T08:32:04.664154407Z"
    }
   }
  },
  {
   "cell_type": "code",
   "execution_count": 76,
   "outputs": [
    {
     "name": "stdout",
     "output_type": "stream",
     "text": [
      "K: 1\n",
      "Accuracy: 1.0\n",
      "Recall: 1.0\n",
      "Precision: 1.0\n",
      "F1: 1.0\n",
      "K: 2\n",
      "Accuracy: 1.0\n",
      "Recall: 1.0\n",
      "Precision: 1.0\n",
      "F1: 1.0\n",
      "K: 3\n",
      "Accuracy: 0.8434782608695652\n",
      "Recall: 0.6896551724137931\n",
      "Precision: 0.8695652173913043\n",
      "F1: 0.7692307692307693\n",
      "K: 4\n",
      "Accuracy: 0.9043478260869565\n",
      "Recall: 0.8160919540229885\n",
      "Precision: 0.922077922077922\n",
      "F1: 0.8658536585365854\n",
      "K: 5\n",
      "Accuracy: 0.8173913043478261\n",
      "Recall: 0.6436781609195402\n",
      "Precision: 0.835820895522388\n",
      "F1: 0.7272727272727273\n",
      "K: 6\n",
      "Accuracy: 0.8652173913043478\n",
      "Recall: 0.7126436781609196\n",
      "Precision: 0.9117647058823529\n",
      "F1: 0.8\n",
      "K: 7\n",
      "Accuracy: 0.7869565217391304\n",
      "Recall: 0.5632183908045977\n",
      "Precision: 0.8166666666666667\n",
      "F1: 0.6666666666666666\n",
      "K: 8\n",
      "Accuracy: 0.8347826086956521\n",
      "Recall: 0.6666666666666666\n",
      "Precision: 0.8656716417910447\n",
      "F1: 0.7532467532467533\n",
      "K: 9\n",
      "Accuracy: 0.7913043478260869\n",
      "Recall: 0.5747126436781609\n",
      "Precision: 0.819672131147541\n",
      "F1: 0.6756756756756757\n"
     ]
    }
   ],
   "source": [
    "for k in range(1, 10):\n",
    "    clf = KNNClassifier(k=k)\n",
    "    clf.fit(X_train, y_train)\n",
    "    predictions = clf.predict(X_test)\n",
    "    \n",
    "    metrics = calculate_metrics(y_test, predictions)\n",
    "    \n",
    "    print(f\"K: {k}\")\n",
    "    print(f\"Accuracy: {metrics[0]}\")\n",
    "    print(f\"Recall: {metrics[1]}\")\n",
    "    print(f\"Precision: {metrics[2]}\")\n",
    "    print(f\"F1: {metrics[3]}\")\n",
    "    "
   ],
   "metadata": {
    "collapsed": false,
    "ExecuteTime": {
     "end_time": "2023-08-30T08:32:07.793588405Z",
     "start_time": "2023-08-30T08:32:04.664296185Z"
    }
   }
  }
 ],
 "metadata": {
  "kernelspec": {
   "display_name": "Python 3",
   "language": "python",
   "name": "python3"
  },
  "language_info": {
   "codemirror_mode": {
    "name": "ipython",
    "version": 2
   },
   "file_extension": ".py",
   "mimetype": "text/x-python",
   "name": "python",
   "nbconvert_exporter": "python",
   "pygments_lexer": "ipython2",
   "version": "2.7.6"
  }
 },
 "nbformat": 4,
 "nbformat_minor": 0
}
