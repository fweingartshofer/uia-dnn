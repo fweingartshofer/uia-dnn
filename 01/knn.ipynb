{
 "cells": [
  {
   "cell_type": "markdown",
   "metadata": {
    "collapsed": false,
    "jupyter": {
     "outputs_hidden": false
    }
   },
   "source": [
    "# KNN\n",
    "Assumptions:\n",
    "- We are free to implement any distance function\n",
    "\n",
    "The following code is the implementation of the KNN algorithm.\n"
   ]
  },
  {
   "cell_type": "code",
   "execution_count": 1,
   "metadata": {
    "ExecuteTime": {
     "end_time": "2023-11-06T13:24:53.698999910Z",
     "start_time": "2023-11-06T13:24:53.691836074Z"
    },
    "collapsed": false,
    "jupyter": {
     "outputs_hidden": false
    }
   },
   "outputs": [],
   "source": [
    "import numpy as np\n",
    "from collections import Counter\n",
    "\n",
    "\n",
    "def euclidean_distance(x1, x2):\n",
    "    return np.sqrt(np.sum((x1 - x2) ** 2))\n",
    "\n",
    "\n",
    "class KNNClassifier:\n",
    "    def __init__(self, k=3, distance_func=euclidean_distance):\n",
    "        self.X_train = None\n",
    "        self.y_train = None\n",
    "        self.k = k\n",
    "        self.distance_function = distance_func\n",
    "\n",
    "    def fit(self, X_train, y_train):\n",
    "        self.X_train = X_train\n",
    "        self.y_train = y_train\n",
    "\n",
    "    def predict(self, X_test):\n",
    "        y_pred = [self._predict(x) for x in X_test]\n",
    "        return np.array(y_pred)\n",
    "\n",
    "    def _predict(self, x):\n",
    "        distances = [self.distance_function(x, x_train) for x_train in self.X_train]\n",
    "        k_indices = np.argsort(distances)[:self.k]\n",
    "        k_nearest_labels = [self.y_train[i] for i in k_indices]\n",
    "        most_common = Counter(k_nearest_labels).most_common(1)\n",
    "        return most_common[0][0]"
   ]
  },
  {
   "cell_type": "markdown",
   "metadata": {
    "collapsed": false,
    "jupyter": {
     "outputs_hidden": false
    }
   },
   "source": [
    "## Using KNN\n",
    "The following section uses the knn algorithm that was implemented to predict diabetes based on the pima-indians-diabetes dataset.\n",
    "First the CSV is read, then converted to a numeric datatype."
   ]
  },
  {
   "cell_type": "code",
   "execution_count": 40,
   "metadata": {
    "ExecuteTime": {
     "end_time": "2023-11-06T14:06:22.042909135Z",
     "start_time": "2023-11-06T14:06:21.991546999Z"
    },
    "collapsed": false,
    "jupyter": {
     "outputs_hidden": false
    }
   },
   "outputs": [],
   "source": [
    "import pandas as pd\n",
    "\n",
    "df = pd.read_csv(\"./pima-indians-diabetes.csv\", header=None)\n",
    "df = df.apply(pd.to_numeric)"
   ]
  },
  {
   "cell_type": "markdown",
   "metadata": {
    "collapsed": false,
    "jupyter": {
     "outputs_hidden": false
    }
   },
   "source": [
    "# Creating the Train/Test Sets\n",
    "The creation of the train and test sets are done via numpy and pandas.\n",
    "* The dataset is first shuffled\n",
    "* Then split into a train and test set\n",
    "* Lastly, split into the features `X_<train/test>` and the target `y_<train/test>`. `n` is the amount of data that should be in the train set in percent."
   ]
  },
  {
   "cell_type": "code",
   "execution_count": 27,
   "metadata": {
    "ExecuteTime": {
     "end_time": "2023-11-06T13:48:18.099836902Z",
     "start_time": "2023-11-06T13:48:17.764148529Z"
    },
    "collapsed": false,
    "jupyter": {
     "outputs_hidden": false
    }
   },
   "outputs": [
    {
     "data": {
      "text/plain": [
       "array([[6.00e+00, 9.80e+01, 5.80e+01, ..., 3.40e+01, 4.30e-01, 4.30e+01],\n",
       "       [2.00e+00, 1.12e+02, 7.50e+01, ..., 3.57e+01, 1.48e-01, 2.10e+01],\n",
       "       [2.00e+00, 1.08e+02, 6.40e+01, ..., 3.08e+01, 1.58e-01, 2.10e+01],\n",
       "       ...,\n",
       "       [5.00e+00, 1.62e+02, 1.04e+02, ..., 3.77e+01, 1.51e-01, 5.20e+01],\n",
       "       [1.00e+00, 9.10e+01, 5.40e+01, ..., 2.52e+01, 2.34e-01, 2.30e+01],\n",
       "       [1.00e+00, 8.90e+01, 2.40e+01, ..., 2.78e+01, 5.59e-01, 2.10e+01]])"
      ]
     },
     "execution_count": 27,
     "metadata": {},
     "output_type": "execute_result"
    }
   ],
   "source": [
    "n = .70\n",
    "train = df.sample(frac=n, random_state=42)\n",
    "test = df.drop(train.index)\n",
    "X_train = train.iloc[:, :-1].to_numpy()\n",
    "y_train = train.iloc[:, -1].to_numpy()\n",
    "X_test = test.iloc[:, :-1].to_numpy()\n",
    "y_test = test.iloc[:, -1].to_numpy()\n",
    "X_train"
   ]
  },
  {
   "cell_type": "code",
   "execution_count": 29,
   "metadata": {
    "ExecuteTime": {
     "end_time": "2023-11-06T13:48:26.629680092Z",
     "start_time": "2023-11-06T13:48:26.568084612Z"
    },
    "collapsed": false,
    "jupyter": {
     "outputs_hidden": false
    }
   },
   "outputs": [
    {
     "data": {
      "text/plain": [
       "array([[1.000e+00, 8.500e+01, 6.600e+01, ..., 2.660e+01, 3.510e-01,\n",
       "        3.100e+01],\n",
       "       [0.000e+00, 1.370e+02, 4.000e+01, ..., 4.310e+01, 2.288e+00,\n",
       "        3.300e+01],\n",
       "       [2.000e+00, 1.970e+02, 7.000e+01, ..., 3.050e+01, 1.580e-01,\n",
       "        5.300e+01],\n",
       "       ...,\n",
       "       [7.000e+00, 1.370e+02, 9.000e+01, ..., 3.200e+01, 3.910e-01,\n",
       "        3.900e+01],\n",
       "       [9.000e+00, 1.700e+02, 7.400e+01, ..., 4.400e+01, 4.030e-01,\n",
       "        4.300e+01],\n",
       "       [5.000e+00, 1.210e+02, 7.200e+01, ..., 2.620e+01, 2.450e-01,\n",
       "        3.000e+01]])"
      ]
     },
     "execution_count": 29,
     "metadata": {},
     "output_type": "execute_result"
    }
   ],
   "source": [
    "X_test"
   ]
  },
  {
   "cell_type": "markdown",
   "metadata": {
    "collapsed": false,
    "jupyter": {
     "outputs_hidden": false
    }
   },
   "source": [
    "The following code calculates the metrics for a prediction."
   ]
  },
  {
   "cell_type": "code",
   "execution_count": 30,
   "metadata": {
    "ExecuteTime": {
     "end_time": "2023-11-06T13:48:28.812242684Z",
     "start_time": "2023-11-06T13:48:28.798616110Z"
    },
    "collapsed": false,
    "jupyter": {
     "outputs_hidden": false
    }
   },
   "outputs": [],
   "source": [
    "from lib import accuracy, recall, precision, f1\n",
    "\n",
    "\n",
    "def calculate_metrics(y_test, predictions):\n",
    "    TP = 0\n",
    "    TN = 0\n",
    "    FP = 0\n",
    "    FN = 0\n",
    "\n",
    "    for i in range(len(y_test)):\n",
    "        y = y_test[i]\n",
    "        pred = predictions[i]\n",
    "\n",
    "        if y == 1 and pred == 1:\n",
    "            TP += 1\n",
    "\n",
    "        if y == 0 and pred == 0:\n",
    "            TN += 1\n",
    "\n",
    "        if y == 1 and pred == 0:\n",
    "            FN += 1\n",
    "\n",
    "        if y == 0 and pred == 1:\n",
    "            FP += 1\n",
    "\n",
    "    return accuracy(TP, TN, FP, FN), recall(TP, FN), precision(TP, FP), f1(TP, FP, FN)"
   ]
  },
  {
   "cell_type": "markdown",
   "metadata": {
    "collapsed": false,
    "jupyter": {
     "outputs_hidden": false
    }
   },
   "source": [
    "# Evaluating KNN\n",
    "The following code evaluates the KNN algorithm with different ks.\n",
    "Starting with one until 19 being the maximum.\n",
    "The result below indicates that the best `k` is 18."
   ]
  },
  {
   "cell_type": "code",
   "execution_count": 37,
   "metadata": {
    "ExecuteTime": {
     "end_time": "2023-11-06T14:00:21.631984643Z",
     "start_time": "2023-11-06T14:00:08.892252991Z"
    },
    "collapsed": false,
    "jupyter": {
     "outputs_hidden": false
    }
   },
   "outputs": [
    {
     "data": {
      "text/html": [
       "<div>\n",
       "<style scoped>\n",
       "    .dataframe tbody tr th:only-of-type {\n",
       "        vertical-align: middle;\n",
       "    }\n",
       "\n",
       "    .dataframe tbody tr th {\n",
       "        vertical-align: top;\n",
       "    }\n",
       "\n",
       "    .dataframe thead th {\n",
       "        text-align: right;\n",
       "    }\n",
       "</style>\n",
       "<table border=\"1\" class=\"dataframe\">\n",
       "  <thead>\n",
       "    <tr style=\"text-align: right;\">\n",
       "      <th></th>\n",
       "      <th>k</th>\n",
       "      <th>Accuracy</th>\n",
       "      <th>Recall</th>\n",
       "      <th>Precision</th>\n",
       "      <th>F1</th>\n",
       "    </tr>\n",
       "  </thead>\n",
       "  <tbody>\n",
       "    <tr>\n",
       "      <th>0</th>\n",
       "      <td>1</td>\n",
       "      <td>0.647826</td>\n",
       "      <td>0.506329</td>\n",
       "      <td>0.487805</td>\n",
       "      <td>0.496894</td>\n",
       "    </tr>\n",
       "    <tr>\n",
       "      <th>1</th>\n",
       "      <td>2</td>\n",
       "      <td>0.647826</td>\n",
       "      <td>0.506329</td>\n",
       "      <td>0.487805</td>\n",
       "      <td>0.496894</td>\n",
       "    </tr>\n",
       "    <tr>\n",
       "      <th>2</th>\n",
       "      <td>3</td>\n",
       "      <td>0.700000</td>\n",
       "      <td>0.506329</td>\n",
       "      <td>0.571429</td>\n",
       "      <td>0.536913</td>\n",
       "    </tr>\n",
       "    <tr>\n",
       "      <th>3</th>\n",
       "      <td>4</td>\n",
       "      <td>0.717391</td>\n",
       "      <td>0.518987</td>\n",
       "      <td>0.602941</td>\n",
       "      <td>0.557823</td>\n",
       "    </tr>\n",
       "    <tr>\n",
       "      <th>4</th>\n",
       "      <td>5</td>\n",
       "      <td>0.713043</td>\n",
       "      <td>0.531646</td>\n",
       "      <td>0.591549</td>\n",
       "      <td>0.560000</td>\n",
       "    </tr>\n",
       "    <tr>\n",
       "      <th>5</th>\n",
       "      <td>6</td>\n",
       "      <td>0.730435</td>\n",
       "      <td>0.531646</td>\n",
       "      <td>0.626866</td>\n",
       "      <td>0.575342</td>\n",
       "    </tr>\n",
       "    <tr>\n",
       "      <th>6</th>\n",
       "      <td>7</td>\n",
       "      <td>0.730435</td>\n",
       "      <td>0.531646</td>\n",
       "      <td>0.626866</td>\n",
       "      <td>0.575342</td>\n",
       "    </tr>\n",
       "    <tr>\n",
       "      <th>7</th>\n",
       "      <td>8</td>\n",
       "      <td>0.717391</td>\n",
       "      <td>0.468354</td>\n",
       "      <td>0.616667</td>\n",
       "      <td>0.532374</td>\n",
       "    </tr>\n",
       "    <tr>\n",
       "      <th>8</th>\n",
       "      <td>9</td>\n",
       "      <td>0.743478</td>\n",
       "      <td>0.518987</td>\n",
       "      <td>0.661290</td>\n",
       "      <td>0.581560</td>\n",
       "    </tr>\n",
       "    <tr>\n",
       "      <th>9</th>\n",
       "      <td>10</td>\n",
       "      <td>0.730435</td>\n",
       "      <td>0.518987</td>\n",
       "      <td>0.630769</td>\n",
       "      <td>0.569444</td>\n",
       "    </tr>\n",
       "    <tr>\n",
       "      <th>10</th>\n",
       "      <td>11</td>\n",
       "      <td>0.726087</td>\n",
       "      <td>0.531646</td>\n",
       "      <td>0.617647</td>\n",
       "      <td>0.571429</td>\n",
       "    </tr>\n",
       "    <tr>\n",
       "      <th>11</th>\n",
       "      <td>12</td>\n",
       "      <td>0.721739</td>\n",
       "      <td>0.506329</td>\n",
       "      <td>0.615385</td>\n",
       "      <td>0.555556</td>\n",
       "    </tr>\n",
       "    <tr>\n",
       "      <th>12</th>\n",
       "      <td>13</td>\n",
       "      <td>0.739130</td>\n",
       "      <td>0.518987</td>\n",
       "      <td>0.650794</td>\n",
       "      <td>0.577465</td>\n",
       "    </tr>\n",
       "    <tr>\n",
       "      <th>13</th>\n",
       "      <td>14</td>\n",
       "      <td>0.730435</td>\n",
       "      <td>0.506329</td>\n",
       "      <td>0.634921</td>\n",
       "      <td>0.563380</td>\n",
       "    </tr>\n",
       "    <tr>\n",
       "      <th>14</th>\n",
       "      <td>15</td>\n",
       "      <td>0.734783</td>\n",
       "      <td>0.506329</td>\n",
       "      <td>0.645161</td>\n",
       "      <td>0.567376</td>\n",
       "    </tr>\n",
       "    <tr>\n",
       "      <th>15</th>\n",
       "      <td>16</td>\n",
       "      <td>0.743478</td>\n",
       "      <td>0.506329</td>\n",
       "      <td>0.666667</td>\n",
       "      <td>0.575540</td>\n",
       "    </tr>\n",
       "    <tr>\n",
       "      <th>16</th>\n",
       "      <td>17</td>\n",
       "      <td>0.756522</td>\n",
       "      <td>0.518987</td>\n",
       "      <td>0.694915</td>\n",
       "      <td>0.594203</td>\n",
       "    </tr>\n",
       "    <tr>\n",
       "      <th>17</th>\n",
       "      <td>18</td>\n",
       "      <td>0.769565</td>\n",
       "      <td>0.531646</td>\n",
       "      <td>0.724138</td>\n",
       "      <td>0.613139</td>\n",
       "    </tr>\n",
       "    <tr>\n",
       "      <th>18</th>\n",
       "      <td>19</td>\n",
       "      <td>0.765217</td>\n",
       "      <td>0.518987</td>\n",
       "      <td>0.719298</td>\n",
       "      <td>0.602941</td>\n",
       "    </tr>\n",
       "  </tbody>\n",
       "</table>\n",
       "</div>"
      ],
      "text/plain": [
       "     k  Accuracy    Recall  Precision        F1\n",
       "0    1  0.647826  0.506329   0.487805  0.496894\n",
       "1    2  0.647826  0.506329   0.487805  0.496894\n",
       "2    3  0.700000  0.506329   0.571429  0.536913\n",
       "3    4  0.717391  0.518987   0.602941  0.557823\n",
       "4    5  0.713043  0.531646   0.591549  0.560000\n",
       "5    6  0.730435  0.531646   0.626866  0.575342\n",
       "6    7  0.730435  0.531646   0.626866  0.575342\n",
       "7    8  0.717391  0.468354   0.616667  0.532374\n",
       "8    9  0.743478  0.518987   0.661290  0.581560\n",
       "9   10  0.730435  0.518987   0.630769  0.569444\n",
       "10  11  0.726087  0.531646   0.617647  0.571429\n",
       "11  12  0.721739  0.506329   0.615385  0.555556\n",
       "12  13  0.739130  0.518987   0.650794  0.577465\n",
       "13  14  0.730435  0.506329   0.634921  0.563380\n",
       "14  15  0.734783  0.506329   0.645161  0.567376\n",
       "15  16  0.743478  0.506329   0.666667  0.575540\n",
       "16  17  0.756522  0.518987   0.694915  0.594203\n",
       "17  18  0.769565  0.531646   0.724138  0.613139\n",
       "18  19  0.765217  0.518987   0.719298  0.602941"
      ]
     },
     "execution_count": 37,
     "metadata": {},
     "output_type": "execute_result"
    }
   ],
   "source": [
    "lower_k = 1\n",
    "upper_k = 20\n",
    "res = []\n",
    "for k in range(lower_k, upper_k):\n",
    "    clf = KNNClassifier(k=k)\n",
    "    clf.fit(X_train, y_train)\n",
    "    predictions = clf.predict(X_test)\n",
    "\n",
    "    metrics = calculate_metrics(y_test, predictions)\n",
    "    res.append({\n",
    "        \"k\": k,\n",
    "        \"Accuracy\": metrics[0],\n",
    "        \"Recall\": metrics[1],\n",
    "        \"Precision\": metrics[2],\n",
    "        \"F1\": metrics[3],\n",
    "    })\n",
    "results = pd.DataFrame(res)\n",
    "results"
   ]
  }
 ],
 "metadata": {
  "kernelspec": {
   "display_name": "Python 3 (ipykernel)",
   "language": "python",
   "name": "python3"
  },
  "language_info": {
   "codemirror_mode": {
    "name": "ipython",
    "version": 3
   },
   "file_extension": ".py",
   "mimetype": "text/x-python",
   "name": "python",
   "nbconvert_exporter": "python",
   "pygments_lexer": "ipython3",
   "version": "3.10.12"
  }
 },
 "nbformat": 4,
 "nbformat_minor": 4
}
