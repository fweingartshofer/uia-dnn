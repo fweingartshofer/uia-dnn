{
 "cells": [
  {
   "cell_type": "markdown",
   "source": [
    "# ECG\n",
    "Load data\n"
   ],
   "metadata": {
    "collapsed": false
   },
   "id": "e6142749e34afa43"
  },
  {
   "cell_type": "code",
   "execution_count": 10,
   "outputs": [
    {
     "data": {
      "text/plain": "       0    1    2    3    4    5    6    7    8    9  ...  66   67   68  69  \\\n30   -52 -180  -68   59   72  162  210  286  356  350  ...  10   18    8  14   \n173  162  220  298  264  136   12   -2  -20  -16  -24  ... -46 -148 -178 -51   \n140  128  255  324  266  138   10   98  140  126  148  ...   6   -8   -2  -2   \n75     4  -66 -194 -154  -27    4  120  180  244  352  ...   8    6    8   0   \n60    26    8   80  -14  -24  -92 -106 -120 -114 -104  ...  40   86   58  50   \n..   ...  ...  ...  ...  ...  ...  ...  ...  ...  ...  ...  ..  ...  ...  ..   \n151   58   86  148  275  338  278  150   22  -34  -12  ...   0    0    0   0   \n103  -58 -186 -108   19   10   78  126  184  282  274  ...  16   18   22  14   \n99   198  262  152   24  -86  -74  -68 -118  -64  -62  ...   0    0    0   0   \n116   -6  -14  -98  -98   29    2   64  126  182  252  ...   0    0    0   0   \n87    14  -90 -218  -96   31   48  146  208  278  368  ...  10    8    4   4   \n\n     70  71   72   73  74  label  \n30   10  10   12   10  12      0  \n173  -8  36    0    0   0      1  \n140  -4 -14   -6   -6 -10      1  \n75   10  18   26   32  34      0  \n60   76  98  100  102  94      0  \n..   ..  ..  ...  ...  ..    ...  \n151   0   0    0    0   0      1  \n103  18  18   12   18  22      1  \n99    0   0    0    0   0      0  \n116   0   0    0    0   0      1  \n87   18  22   28   36  26      0  \n\n[200 rows x 76 columns]",
      "text/html": "<div>\n<style scoped>\n    .dataframe tbody tr th:only-of-type {\n        vertical-align: middle;\n    }\n\n    .dataframe tbody tr th {\n        vertical-align: top;\n    }\n\n    .dataframe thead th {\n        text-align: right;\n    }\n</style>\n<table border=\"1\" class=\"dataframe\">\n  <thead>\n    <tr style=\"text-align: right;\">\n      <th></th>\n      <th>0</th>\n      <th>1</th>\n      <th>2</th>\n      <th>3</th>\n      <th>4</th>\n      <th>5</th>\n      <th>6</th>\n      <th>7</th>\n      <th>8</th>\n      <th>9</th>\n      <th>...</th>\n      <th>66</th>\n      <th>67</th>\n      <th>68</th>\n      <th>69</th>\n      <th>70</th>\n      <th>71</th>\n      <th>72</th>\n      <th>73</th>\n      <th>74</th>\n      <th>label</th>\n    </tr>\n  </thead>\n  <tbody>\n    <tr>\n      <th>30</th>\n      <td>-52</td>\n      <td>-180</td>\n      <td>-68</td>\n      <td>59</td>\n      <td>72</td>\n      <td>162</td>\n      <td>210</td>\n      <td>286</td>\n      <td>356</td>\n      <td>350</td>\n      <td>...</td>\n      <td>10</td>\n      <td>18</td>\n      <td>8</td>\n      <td>14</td>\n      <td>10</td>\n      <td>10</td>\n      <td>12</td>\n      <td>10</td>\n      <td>12</td>\n      <td>0</td>\n    </tr>\n    <tr>\n      <th>173</th>\n      <td>162</td>\n      <td>220</td>\n      <td>298</td>\n      <td>264</td>\n      <td>136</td>\n      <td>12</td>\n      <td>-2</td>\n      <td>-20</td>\n      <td>-16</td>\n      <td>-24</td>\n      <td>...</td>\n      <td>-46</td>\n      <td>-148</td>\n      <td>-178</td>\n      <td>-51</td>\n      <td>-8</td>\n      <td>36</td>\n      <td>0</td>\n      <td>0</td>\n      <td>0</td>\n      <td>1</td>\n    </tr>\n    <tr>\n      <th>140</th>\n      <td>128</td>\n      <td>255</td>\n      <td>324</td>\n      <td>266</td>\n      <td>138</td>\n      <td>10</td>\n      <td>98</td>\n      <td>140</td>\n      <td>126</td>\n      <td>148</td>\n      <td>...</td>\n      <td>6</td>\n      <td>-8</td>\n      <td>-2</td>\n      <td>-2</td>\n      <td>-4</td>\n      <td>-14</td>\n      <td>-6</td>\n      <td>-6</td>\n      <td>-10</td>\n      <td>1</td>\n    </tr>\n    <tr>\n      <th>75</th>\n      <td>4</td>\n      <td>-66</td>\n      <td>-194</td>\n      <td>-154</td>\n      <td>-27</td>\n      <td>4</td>\n      <td>120</td>\n      <td>180</td>\n      <td>244</td>\n      <td>352</td>\n      <td>...</td>\n      <td>8</td>\n      <td>6</td>\n      <td>8</td>\n      <td>0</td>\n      <td>10</td>\n      <td>18</td>\n      <td>26</td>\n      <td>32</td>\n      <td>34</td>\n      <td>0</td>\n    </tr>\n    <tr>\n      <th>60</th>\n      <td>26</td>\n      <td>8</td>\n      <td>80</td>\n      <td>-14</td>\n      <td>-24</td>\n      <td>-92</td>\n      <td>-106</td>\n      <td>-120</td>\n      <td>-114</td>\n      <td>-104</td>\n      <td>...</td>\n      <td>40</td>\n      <td>86</td>\n      <td>58</td>\n      <td>50</td>\n      <td>76</td>\n      <td>98</td>\n      <td>100</td>\n      <td>102</td>\n      <td>94</td>\n      <td>0</td>\n    </tr>\n    <tr>\n      <th>...</th>\n      <td>...</td>\n      <td>...</td>\n      <td>...</td>\n      <td>...</td>\n      <td>...</td>\n      <td>...</td>\n      <td>...</td>\n      <td>...</td>\n      <td>...</td>\n      <td>...</td>\n      <td>...</td>\n      <td>...</td>\n      <td>...</td>\n      <td>...</td>\n      <td>...</td>\n      <td>...</td>\n      <td>...</td>\n      <td>...</td>\n      <td>...</td>\n      <td>...</td>\n      <td>...</td>\n    </tr>\n    <tr>\n      <th>151</th>\n      <td>58</td>\n      <td>86</td>\n      <td>148</td>\n      <td>275</td>\n      <td>338</td>\n      <td>278</td>\n      <td>150</td>\n      <td>22</td>\n      <td>-34</td>\n      <td>-12</td>\n      <td>...</td>\n      <td>0</td>\n      <td>0</td>\n      <td>0</td>\n      <td>0</td>\n      <td>0</td>\n      <td>0</td>\n      <td>0</td>\n      <td>0</td>\n      <td>0</td>\n      <td>1</td>\n    </tr>\n    <tr>\n      <th>103</th>\n      <td>-58</td>\n      <td>-186</td>\n      <td>-108</td>\n      <td>19</td>\n      <td>10</td>\n      <td>78</td>\n      <td>126</td>\n      <td>184</td>\n      <td>282</td>\n      <td>274</td>\n      <td>...</td>\n      <td>16</td>\n      <td>18</td>\n      <td>22</td>\n      <td>14</td>\n      <td>18</td>\n      <td>18</td>\n      <td>12</td>\n      <td>18</td>\n      <td>22</td>\n      <td>1</td>\n    </tr>\n    <tr>\n      <th>99</th>\n      <td>198</td>\n      <td>262</td>\n      <td>152</td>\n      <td>24</td>\n      <td>-86</td>\n      <td>-74</td>\n      <td>-68</td>\n      <td>-118</td>\n      <td>-64</td>\n      <td>-62</td>\n      <td>...</td>\n      <td>0</td>\n      <td>0</td>\n      <td>0</td>\n      <td>0</td>\n      <td>0</td>\n      <td>0</td>\n      <td>0</td>\n      <td>0</td>\n      <td>0</td>\n      <td>0</td>\n    </tr>\n    <tr>\n      <th>116</th>\n      <td>-6</td>\n      <td>-14</td>\n      <td>-98</td>\n      <td>-98</td>\n      <td>29</td>\n      <td>2</td>\n      <td>64</td>\n      <td>126</td>\n      <td>182</td>\n      <td>252</td>\n      <td>...</td>\n      <td>0</td>\n      <td>0</td>\n      <td>0</td>\n      <td>0</td>\n      <td>0</td>\n      <td>0</td>\n      <td>0</td>\n      <td>0</td>\n      <td>0</td>\n      <td>1</td>\n    </tr>\n    <tr>\n      <th>87</th>\n      <td>14</td>\n      <td>-90</td>\n      <td>-218</td>\n      <td>-96</td>\n      <td>31</td>\n      <td>48</td>\n      <td>146</td>\n      <td>208</td>\n      <td>278</td>\n      <td>368</td>\n      <td>...</td>\n      <td>10</td>\n      <td>8</td>\n      <td>4</td>\n      <td>4</td>\n      <td>18</td>\n      <td>22</td>\n      <td>28</td>\n      <td>36</td>\n      <td>26</td>\n      <td>0</td>\n    </tr>\n  </tbody>\n</table>\n<p>200 rows × 76 columns</p>\n</div>"
     },
     "execution_count": 10,
     "metadata": {},
     "output_type": "execute_result"
    }
   ],
   "source": [
    "import os\n",
    "import numpy as np\n",
    "import pandas as pd\n",
    "\n",
    "# Max number of data points per heartbeat\n",
    "max_length = 75\n",
    "limit_of_samples = 100\n",
    "\n",
    "# Define paths\n",
    "normal_dir = './ecg/normal'\n",
    "abnormal_dir = './ecg/abnormal'\n",
    "# Labels\n",
    "normal = 0\n",
    "abnormal = 1\n",
    "\n",
    "\n",
    "def load_data_from_directory(directory, label, mode='constant', limit=-1):\n",
    "    data_list = []\n",
    "\n",
    "    for filename in os.listdir(directory):\n",
    "        if not filename.endswith('0') and not filename.endswith('1'):\n",
    "            continue\n",
    "        if limit == 0:\n",
    "            break\n",
    "        limit -= 1\n",
    "        path = os.path.join(directory, filename)\n",
    "        heartbeat = pd.read_csv(path, delimiter='\\s+', header=None)[1]\n",
    "\n",
    "        if len(heartbeat) < max_length:\n",
    "            if mode == 'constant':\n",
    "                heartbeat = np.pad(heartbeat, (0, max_length - len(heartbeat)), mode='constant',\n",
    "                                   constant_values=0)\n",
    "            elif mode == 'mean':\n",
    "                heartbeat = np.pad(heartbeat, (0, max_length - len(heartbeat)), mode='mean')\n",
    "        else:\n",
    "            heartbeat = heartbeat[:max_length]\n",
    "        heartbeat = {k: v for k, v in enumerate(heartbeat)}\n",
    "        heartbeat['label'] = label\n",
    "        data_list.append(heartbeat)\n",
    "\n",
    "    return data_list\n",
    "\n",
    "\n",
    "normal_data = load_data_from_directory(normal_dir, normal, limit=limit_of_samples)\n",
    "abnormal_data = load_data_from_directory(abnormal_dir, abnormal, limit=limit_of_samples)\n",
    "df = pd.DataFrame(normal_data + abnormal_data).sample(frac=1)\n",
    "df"
   ],
   "metadata": {
    "collapsed": false,
    "ExecuteTime": {
     "end_time": "2023-11-08T11:44:52.212864340Z",
     "start_time": "2023-11-08T11:44:51.641337279Z"
    }
   },
   "id": "e260f2ec046e5272"
  },
  {
   "cell_type": "markdown",
   "source": [
    "# Split into Train/Test Set"
   ],
   "metadata": {
    "collapsed": false
   },
   "id": "e896196f1845c359"
  },
  {
   "cell_type": "code",
   "execution_count": 11,
   "outputs": [],
   "source": [
    "from sklearn.model_selection import train_test_split\n",
    "\n",
    "n = 0.3\n",
    "random_seed = 42\n",
    "np.random.seed(random_seed)\n",
    "\n",
    "X = df.iloc[:, :75]\n",
    "y = df['label']\n",
    "X_train, X_test, y_train, y_test = train_test_split(X, y, test_size=n, random_state=random_seed)"
   ],
   "metadata": {
    "collapsed": false,
    "ExecuteTime": {
     "end_time": "2023-11-08T11:44:52.213714005Z",
     "start_time": "2023-11-08T11:44:52.186126499Z"
    }
   },
   "id": "8e8d8f6476ce9973"
  },
  {
   "cell_type": "markdown",
   "source": [
    "Resample via smote, because abnormal is underrepresented"
   ],
   "metadata": {
    "collapsed": false
   },
   "id": "3019f2e0f4b09690"
  },
  {
   "cell_type": "code",
   "execution_count": 12,
   "outputs": [],
   "source": [
    "from imblearn.over_sampling import SMOTE\n",
    "\n",
    "smote = SMOTE(sampling_strategy='minority')\n",
    "X_train, y_train = smote.fit_resample(X_train, y_train)"
   ],
   "metadata": {
    "collapsed": false,
    "ExecuteTime": {
     "end_time": "2023-11-08T11:44:52.249119509Z",
     "start_time": "2023-11-08T11:44:52.186644459Z"
    }
   },
   "id": "cde697034b6ced4"
  },
  {
   "cell_type": "markdown",
   "source": [
    "Rescale features X"
   ],
   "metadata": {
    "collapsed": false
   },
   "id": "84658ac89c22b20a"
  },
  {
   "cell_type": "code",
   "execution_count": 13,
   "outputs": [],
   "source": [
    "from sklearn.preprocessing import StandardScaler\n",
    "\n",
    "scaler = StandardScaler()\n",
    "X_train = scaler.fit_transform(X_train)\n",
    "X_test = scaler.transform(X_test)"
   ],
   "metadata": {
    "collapsed": false,
    "ExecuteTime": {
     "end_time": "2023-11-08T11:44:52.433058554Z",
     "start_time": "2023-11-08T11:44:52.209836165Z"
    }
   },
   "id": "13481870bfaa984f"
  },
  {
   "cell_type": "code",
   "execution_count": 23,
   "outputs": [
    {
     "name": "stdout",
     "output_type": "stream",
     "text": [
      "Epoch 1/150\n",
      "15/15 [==============================] - 1s 2ms/step - loss: 0.6628 - accuracy: 0.6216 - precision_2: 0.9091 - recall_2: 0.2703    \n",
      "Epoch 2/150\n",
      "15/15 [==============================] - 0s 1ms/step - loss: 0.5331 - accuracy: 0.7635 - precision_2: 0.8000 - recall_2: 0.7027\n",
      "Epoch 3/150\n",
      "15/15 [==============================] - 0s 2ms/step - loss: 0.4676 - accuracy: 0.8176 - precision_2: 0.7901 - recall_2: 0.8649\n",
      "Epoch 4/150\n",
      "15/15 [==============================] - 0s 2ms/step - loss: 0.4171 - accuracy: 0.8514 - precision_2: 0.8333 - recall_2: 0.8784\n",
      "Epoch 5/150\n",
      "15/15 [==============================] - 0s 1ms/step - loss: 0.3833 - accuracy: 0.8649 - precision_2: 0.8462 - recall_2: 0.8919\n",
      "Epoch 6/150\n",
      "15/15 [==============================] - 0s 1ms/step - loss: 0.3530 - accuracy: 0.8919 - precision_2: 0.8625 - recall_2: 0.9324\n",
      "Epoch 7/150\n",
      "15/15 [==============================] - 0s 1ms/step - loss: 0.3223 - accuracy: 0.8851 - precision_2: 0.8701 - recall_2: 0.9054\n",
      "Epoch 8/150\n",
      "15/15 [==============================] - 0s 2ms/step - loss: 0.2994 - accuracy: 0.9054 - precision_2: 0.8846 - recall_2: 0.9324\n",
      "Epoch 9/150\n",
      "15/15 [==============================] - 0s 1ms/step - loss: 0.2769 - accuracy: 0.9122 - precision_2: 0.8961 - recall_2: 0.9324\n",
      "Epoch 10/150\n",
      "15/15 [==============================] - 0s 2ms/step - loss: 0.2509 - accuracy: 0.9122 - precision_2: 0.8961 - recall_2: 0.9324\n",
      "Epoch 11/150\n",
      "15/15 [==============================] - 0s 2ms/step - loss: 0.2329 - accuracy: 0.9324 - precision_2: 0.9324 - recall_2: 0.9324\n",
      "Epoch 12/150\n",
      "15/15 [==============================] - 0s 1ms/step - loss: 0.2195 - accuracy: 0.9392 - precision_2: 0.9452 - recall_2: 0.9324\n",
      "Epoch 13/150\n",
      "15/15 [==============================] - 0s 1ms/step - loss: 0.2044 - accuracy: 0.9392 - precision_2: 0.9333 - recall_2: 0.9459\n",
      "Epoch 14/150\n",
      "15/15 [==============================] - 0s 1ms/step - loss: 0.1857 - accuracy: 0.9459 - precision_2: 0.9459 - recall_2: 0.9459\n",
      "Epoch 15/150\n",
      "15/15 [==============================] - 0s 1ms/step - loss: 0.1742 - accuracy: 0.9459 - precision_2: 0.9459 - recall_2: 0.9459\n",
      "Epoch 16/150\n",
      "15/15 [==============================] - 0s 1ms/step - loss: 0.1631 - accuracy: 0.9527 - precision_2: 0.9467 - recall_2: 0.9595\n",
      "Epoch 17/150\n",
      "15/15 [==============================] - 0s 1ms/step - loss: 0.1505 - accuracy: 0.9527 - precision_2: 0.9589 - recall_2: 0.9459\n",
      "Epoch 18/150\n",
      "15/15 [==============================] - 0s 1ms/step - loss: 0.1411 - accuracy: 0.9662 - precision_2: 0.9600 - recall_2: 0.9730\n",
      "Epoch 19/150\n",
      "15/15 [==============================] - 0s 1ms/step - loss: 0.1328 - accuracy: 0.9730 - precision_2: 0.9605 - recall_2: 0.9865\n",
      "Epoch 20/150\n",
      "15/15 [==============================] - 0s 1ms/step - loss: 0.1253 - accuracy: 0.9797 - precision_2: 1.0000 - recall_2: 0.9595\n",
      "Epoch 21/150\n",
      "15/15 [==============================] - 0s 1ms/step - loss: 0.1136 - accuracy: 0.9865 - precision_2: 0.9865 - recall_2: 0.9865\n",
      "Epoch 22/150\n",
      "15/15 [==============================] - 0s 1ms/step - loss: 0.1076 - accuracy: 0.9932 - precision_2: 1.0000 - recall_2: 0.9865\n",
      "Epoch 23/150\n",
      "15/15 [==============================] - 0s 1ms/step - loss: 0.1029 - accuracy: 0.9932 - precision_2: 1.0000 - recall_2: 0.9865\n",
      "Epoch 24/150\n",
      "15/15 [==============================] - 0s 1ms/step - loss: 0.0923 - accuracy: 0.9932 - precision_2: 1.0000 - recall_2: 0.9865\n",
      "Epoch 25/150\n",
      "15/15 [==============================] - 0s 1ms/step - loss: 0.0870 - accuracy: 0.9932 - precision_2: 1.0000 - recall_2: 0.9865\n",
      "Epoch 26/150\n",
      "15/15 [==============================] - 0s 1ms/step - loss: 0.0813 - accuracy: 0.9932 - precision_2: 1.0000 - recall_2: 0.9865\n",
      "Epoch 27/150\n",
      "15/15 [==============================] - 0s 1ms/step - loss: 0.0779 - accuracy: 0.9932 - precision_2: 1.0000 - recall_2: 0.9865\n",
      "Epoch 28/150\n",
      "15/15 [==============================] - 0s 1ms/step - loss: 0.0755 - accuracy: 0.9932 - precision_2: 1.0000 - recall_2: 0.9865\n",
      "Epoch 29/150\n",
      "15/15 [==============================] - 0s 1ms/step - loss: 0.0670 - accuracy: 0.9932 - precision_2: 1.0000 - recall_2: 0.9865\n",
      "Epoch 30/150\n",
      "15/15 [==============================] - 0s 1ms/step - loss: 0.0625 - accuracy: 0.9932 - precision_2: 1.0000 - recall_2: 0.9865\n",
      "Epoch 31/150\n",
      "15/15 [==============================] - 0s 1ms/step - loss: 0.0589 - accuracy: 0.9932 - precision_2: 1.0000 - recall_2: 0.9865\n",
      "Epoch 32/150\n",
      "15/15 [==============================] - 0s 1ms/step - loss: 0.0568 - accuracy: 0.9932 - precision_2: 1.0000 - recall_2: 0.9865\n",
      "Epoch 33/150\n",
      "15/15 [==============================] - 0s 1ms/step - loss: 0.0538 - accuracy: 0.9932 - precision_2: 1.0000 - recall_2: 0.9865\n",
      "Epoch 34/150\n",
      "15/15 [==============================] - 0s 1ms/step - loss: 0.0526 - accuracy: 0.9932 - precision_2: 1.0000 - recall_2: 0.9865\n",
      "Epoch 35/150\n",
      "15/15 [==============================] - 0s 1ms/step - loss: 0.0560 - accuracy: 0.9932 - precision_2: 1.0000 - recall_2: 0.9865\n",
      "Epoch 36/150\n",
      "15/15 [==============================] - 0s 1ms/step - loss: 0.0436 - accuracy: 0.9932 - precision_2: 1.0000 - recall_2: 0.9865\n",
      "Epoch 37/150\n",
      "15/15 [==============================] - 0s 1ms/step - loss: 0.0431 - accuracy: 0.9932 - precision_2: 1.0000 - recall_2: 0.9865\n",
      "Epoch 38/150\n",
      "15/15 [==============================] - 0s 1ms/step - loss: 0.0410 - accuracy: 0.9932 - precision_2: 1.0000 - recall_2: 0.9865\n",
      "Epoch 39/150\n",
      "15/15 [==============================] - 0s 1ms/step - loss: 0.0384 - accuracy: 0.9932 - precision_2: 1.0000 - recall_2: 0.9865\n",
      "Epoch 40/150\n",
      "15/15 [==============================] - 0s 1ms/step - loss: 0.0337 - accuracy: 0.9932 - precision_2: 1.0000 - recall_2: 0.9865\n",
      "Epoch 41/150\n",
      "15/15 [==============================] - 0s 1ms/step - loss: 0.0326 - accuracy: 0.9932 - precision_2: 1.0000 - recall_2: 0.9865\n",
      "Epoch 42/150\n",
      "15/15 [==============================] - 0s 2ms/step - loss: 0.0304 - accuracy: 0.9932 - precision_2: 1.0000 - recall_2: 0.9865\n",
      "Epoch 43/150\n",
      "15/15 [==============================] - 0s 1ms/step - loss: 0.0278 - accuracy: 0.9932 - precision_2: 1.0000 - recall_2: 0.9865\n",
      "Epoch 44/150\n",
      "15/15 [==============================] - 0s 1ms/step - loss: 0.0270 - accuracy: 0.9932 - precision_2: 1.0000 - recall_2: 0.9865\n",
      "Epoch 45/150\n",
      "15/15 [==============================] - 0s 1ms/step - loss: 0.0260 - accuracy: 0.9932 - precision_2: 1.0000 - recall_2: 0.9865\n",
      "Epoch 46/150\n",
      "15/15 [==============================] - 0s 1ms/step - loss: 0.0236 - accuracy: 0.9932 - precision_2: 1.0000 - recall_2: 0.9865\n",
      "Epoch 47/150\n",
      "15/15 [==============================] - 0s 1ms/step - loss: 0.0223 - accuracy: 0.9932 - precision_2: 1.0000 - recall_2: 0.9865\n",
      "Epoch 48/150\n",
      "15/15 [==============================] - 0s 1ms/step - loss: 0.0222 - accuracy: 0.9932 - precision_2: 1.0000 - recall_2: 0.9865\n",
      "Epoch 49/150\n",
      "15/15 [==============================] - 0s 1ms/step - loss: 0.0202 - accuracy: 0.9932 - precision_2: 1.0000 - recall_2: 0.9865\n",
      "Epoch 50/150\n",
      "15/15 [==============================] - 0s 1ms/step - loss: 0.0203 - accuracy: 0.9932 - precision_2: 1.0000 - recall_2: 0.9865\n",
      "Epoch 51/150\n",
      "15/15 [==============================] - 0s 1ms/step - loss: 0.0161 - accuracy: 0.9932 - precision_2: 1.0000 - recall_2: 0.9865\n",
      "Epoch 52/150\n",
      "15/15 [==============================] - 0s 3ms/step - loss: 0.0157 - accuracy: 0.9932 - precision_2: 1.0000 - recall_2: 0.9865\n",
      "Epoch 53/150\n",
      "15/15 [==============================] - 0s 2ms/step - loss: 0.0141 - accuracy: 1.0000 - precision_2: 1.0000 - recall_2: 1.0000\n",
      "Epoch 54/150\n",
      "15/15 [==============================] - 0s 2ms/step - loss: 0.0147 - accuracy: 1.0000 - precision_2: 1.0000 - recall_2: 1.0000\n",
      "Epoch 55/150\n",
      "15/15 [==============================] - 0s 2ms/step - loss: 0.0130 - accuracy: 1.0000 - precision_2: 1.0000 - recall_2: 1.0000\n",
      "Epoch 56/150\n",
      "15/15 [==============================] - 0s 2ms/step - loss: 0.0120 - accuracy: 1.0000 - precision_2: 1.0000 - recall_2: 1.0000\n",
      "Epoch 57/150\n",
      "15/15 [==============================] - 0s 1ms/step - loss: 0.0106 - accuracy: 1.0000 - precision_2: 1.0000 - recall_2: 1.0000\n",
      "Epoch 58/150\n",
      "15/15 [==============================] - 0s 2ms/step - loss: 0.0110 - accuracy: 1.0000 - precision_2: 1.0000 - recall_2: 1.0000\n",
      "Epoch 59/150\n",
      "15/15 [==============================] - 0s 2ms/step - loss: 0.0103 - accuracy: 1.0000 - precision_2: 1.0000 - recall_2: 1.0000\n",
      "Epoch 60/150\n",
      "15/15 [==============================] - 0s 2ms/step - loss: 0.0094 - accuracy: 1.0000 - precision_2: 1.0000 - recall_2: 1.0000\n",
      "Epoch 61/150\n",
      "15/15 [==============================] - 0s 2ms/step - loss: 0.0089 - accuracy: 1.0000 - precision_2: 1.0000 - recall_2: 1.0000\n",
      "Epoch 62/150\n",
      "15/15 [==============================] - 0s 2ms/step - loss: 0.0094 - accuracy: 1.0000 - precision_2: 1.0000 - recall_2: 1.0000\n",
      "Epoch 63/150\n",
      "15/15 [==============================] - 0s 2ms/step - loss: 0.0097 - accuracy: 1.0000 - precision_2: 1.0000 - recall_2: 1.0000\n",
      "Epoch 64/150\n",
      "15/15 [==============================] - 0s 2ms/step - loss: 0.0077 - accuracy: 1.0000 - precision_2: 1.0000 - recall_2: 1.0000\n",
      "Epoch 65/150\n",
      "15/15 [==============================] - 0s 2ms/step - loss: 0.0068 - accuracy: 1.0000 - precision_2: 1.0000 - recall_2: 1.0000\n",
      "Epoch 66/150\n",
      "15/15 [==============================] - 0s 2ms/step - loss: 0.0068 - accuracy: 1.0000 - precision_2: 1.0000 - recall_2: 1.0000\n",
      "Epoch 67/150\n",
      "15/15 [==============================] - 0s 2ms/step - loss: 0.0063 - accuracy: 1.0000 - precision_2: 1.0000 - recall_2: 1.0000\n",
      "Epoch 68/150\n",
      "15/15 [==============================] - 0s 2ms/step - loss: 0.0061 - accuracy: 1.0000 - precision_2: 1.0000 - recall_2: 1.0000\n",
      "Epoch 69/150\n",
      "15/15 [==============================] - 0s 2ms/step - loss: 0.0058 - accuracy: 1.0000 - precision_2: 1.0000 - recall_2: 1.0000\n",
      "Epoch 70/150\n",
      "15/15 [==============================] - 0s 2ms/step - loss: 0.0053 - accuracy: 1.0000 - precision_2: 1.0000 - recall_2: 1.0000\n",
      "Epoch 71/150\n",
      "15/15 [==============================] - 0s 2ms/step - loss: 0.0051 - accuracy: 1.0000 - precision_2: 1.0000 - recall_2: 1.0000\n",
      "Epoch 72/150\n",
      "15/15 [==============================] - 0s 2ms/step - loss: 0.0046 - accuracy: 1.0000 - precision_2: 1.0000 - recall_2: 1.0000\n",
      "Epoch 73/150\n",
      "15/15 [==============================] - 0s 2ms/step - loss: 0.0044 - accuracy: 1.0000 - precision_2: 1.0000 - recall_2: 1.0000\n",
      "Epoch 74/150\n",
      "15/15 [==============================] - 0s 2ms/step - loss: 0.0043 - accuracy: 1.0000 - precision_2: 1.0000 - recall_2: 1.0000\n",
      "Epoch 75/150\n",
      "15/15 [==============================] - 0s 2ms/step - loss: 0.0041 - accuracy: 1.0000 - precision_2: 1.0000 - recall_2: 1.0000\n",
      "Epoch 76/150\n",
      "15/15 [==============================] - 0s 2ms/step - loss: 0.0040 - accuracy: 1.0000 - precision_2: 1.0000 - recall_2: 1.0000\n",
      "Epoch 77/150\n",
      "15/15 [==============================] - 0s 2ms/step - loss: 0.0041 - accuracy: 1.0000 - precision_2: 1.0000 - recall_2: 1.0000\n",
      "Epoch 78/150\n",
      "15/15 [==============================] - 0s 1ms/step - loss: 0.0037 - accuracy: 1.0000 - precision_2: 1.0000 - recall_2: 1.0000\n",
      "Epoch 79/150\n",
      "15/15 [==============================] - 0s 1ms/step - loss: 0.0034 - accuracy: 1.0000 - precision_2: 1.0000 - recall_2: 1.0000\n",
      "Epoch 80/150\n",
      "15/15 [==============================] - 0s 1ms/step - loss: 0.0034 - accuracy: 1.0000 - precision_2: 1.0000 - recall_2: 1.0000\n",
      "Epoch 81/150\n",
      "15/15 [==============================] - 0s 1ms/step - loss: 0.0032 - accuracy: 1.0000 - precision_2: 1.0000 - recall_2: 1.0000\n",
      "Epoch 82/150\n",
      "15/15 [==============================] - 0s 1ms/step - loss: 0.0031 - accuracy: 1.0000 - precision_2: 1.0000 - recall_2: 1.0000\n",
      "Epoch 83/150\n",
      "15/15 [==============================] - 0s 1ms/step - loss: 0.0029 - accuracy: 1.0000 - precision_2: 1.0000 - recall_2: 1.0000\n",
      "Epoch 84/150\n",
      "15/15 [==============================] - 0s 1ms/step - loss: 0.0028 - accuracy: 1.0000 - precision_2: 1.0000 - recall_2: 1.0000\n",
      "Epoch 85/150\n",
      "15/15 [==============================] - 0s 1ms/step - loss: 0.0028 - accuracy: 1.0000 - precision_2: 1.0000 - recall_2: 1.0000\n",
      "Epoch 86/150\n",
      "15/15 [==============================] - 0s 1ms/step - loss: 0.0026 - accuracy: 1.0000 - precision_2: 1.0000 - recall_2: 1.0000\n",
      "Epoch 87/150\n",
      "15/15 [==============================] - 0s 1ms/step - loss: 0.0025 - accuracy: 1.0000 - precision_2: 1.0000 - recall_2: 1.0000\n",
      "Epoch 88/150\n",
      "15/15 [==============================] - 0s 1ms/step - loss: 0.0025 - accuracy: 1.0000 - precision_2: 1.0000 - recall_2: 1.0000\n",
      "Epoch 89/150\n",
      "15/15 [==============================] - 0s 1ms/step - loss: 0.0025 - accuracy: 1.0000 - precision_2: 1.0000 - recall_2: 1.0000\n",
      "Epoch 90/150\n",
      "15/15 [==============================] - 0s 1ms/step - loss: 0.0023 - accuracy: 1.0000 - precision_2: 1.0000 - recall_2: 1.0000\n",
      "Epoch 91/150\n",
      "15/15 [==============================] - 0s 1ms/step - loss: 0.0022 - accuracy: 1.0000 - precision_2: 1.0000 - recall_2: 1.0000\n",
      "Epoch 92/150\n",
      "15/15 [==============================] - 0s 1ms/step - loss: 0.0022 - accuracy: 1.0000 - precision_2: 1.0000 - recall_2: 1.0000\n",
      "Epoch 93/150\n",
      "15/15 [==============================] - 0s 1ms/step - loss: 0.0020 - accuracy: 1.0000 - precision_2: 1.0000 - recall_2: 1.0000\n",
      "Epoch 94/150\n",
      "15/15 [==============================] - 0s 1ms/step - loss: 0.0020 - accuracy: 1.0000 - precision_2: 1.0000 - recall_2: 1.0000\n",
      "Epoch 95/150\n",
      "15/15 [==============================] - 0s 1ms/step - loss: 0.0020 - accuracy: 1.0000 - precision_2: 1.0000 - recall_2: 1.0000\n",
      "Epoch 96/150\n",
      "15/15 [==============================] - 0s 1ms/step - loss: 0.0020 - accuracy: 1.0000 - precision_2: 1.0000 - recall_2: 1.0000\n",
      "Epoch 97/150\n",
      "15/15 [==============================] - 0s 1ms/step - loss: 0.0018 - accuracy: 1.0000 - precision_2: 1.0000 - recall_2: 1.0000\n",
      "Epoch 98/150\n",
      "15/15 [==============================] - 0s 1ms/step - loss: 0.0017 - accuracy: 1.0000 - precision_2: 1.0000 - recall_2: 1.0000\n",
      "Epoch 99/150\n",
      "15/15 [==============================] - 0s 1ms/step - loss: 0.0017 - accuracy: 1.0000 - precision_2: 1.0000 - recall_2: 1.0000\n",
      "Epoch 100/150\n",
      "15/15 [==============================] - 0s 1ms/step - loss: 0.0016 - accuracy: 1.0000 - precision_2: 1.0000 - recall_2: 1.0000\n",
      "Epoch 101/150\n",
      "15/15 [==============================] - 0s 1ms/step - loss: 0.0016 - accuracy: 1.0000 - precision_2: 1.0000 - recall_2: 1.0000\n",
      "Epoch 102/150\n",
      "15/15 [==============================] - 0s 1ms/step - loss: 0.0016 - accuracy: 1.0000 - precision_2: 1.0000 - recall_2: 1.0000\n",
      "Epoch 103/150\n",
      "15/15 [==============================] - 0s 1ms/step - loss: 0.0017 - accuracy: 1.0000 - precision_2: 1.0000 - recall_2: 1.0000\n",
      "Epoch 104/150\n",
      "15/15 [==============================] - 0s 1ms/step - loss: 0.0016 - accuracy: 1.0000 - precision_2: 1.0000 - recall_2: 1.0000\n",
      "Epoch 105/150\n",
      "15/15 [==============================] - 0s 1ms/step - loss: 0.0015 - accuracy: 1.0000 - precision_2: 1.0000 - recall_2: 1.0000\n",
      "Epoch 106/150\n",
      "15/15 [==============================] - 0s 1ms/step - loss: 0.0015 - accuracy: 1.0000 - precision_2: 1.0000 - recall_2: 1.0000\n",
      "Epoch 107/150\n",
      "15/15 [==============================] - 0s 1ms/step - loss: 0.0014 - accuracy: 1.0000 - precision_2: 1.0000 - recall_2: 1.0000\n",
      "Epoch 108/150\n",
      "15/15 [==============================] - 0s 1ms/step - loss: 0.0013 - accuracy: 1.0000 - precision_2: 1.0000 - recall_2: 1.0000\n",
      "Epoch 109/150\n",
      "15/15 [==============================] - 0s 1ms/step - loss: 0.0013 - accuracy: 1.0000 - precision_2: 1.0000 - recall_2: 1.0000\n",
      "Epoch 110/150\n",
      "15/15 [==============================] - 0s 1ms/step - loss: 0.0013 - accuracy: 1.0000 - precision_2: 1.0000 - recall_2: 1.0000\n",
      "Epoch 111/150\n",
      "15/15 [==============================] - 0s 1ms/step - loss: 0.0013 - accuracy: 1.0000 - precision_2: 1.0000 - recall_2: 1.0000\n",
      "Epoch 112/150\n",
      "15/15 [==============================] - 0s 1ms/step - loss: 0.0012 - accuracy: 1.0000 - precision_2: 1.0000 - recall_2: 1.0000\n",
      "Epoch 113/150\n",
      "15/15 [==============================] - 0s 1ms/step - loss: 0.0012 - accuracy: 1.0000 - precision_2: 1.0000 - recall_2: 1.0000\n",
      "Epoch 114/150\n",
      "15/15 [==============================] - 0s 1ms/step - loss: 0.0011 - accuracy: 1.0000 - precision_2: 1.0000 - recall_2: 1.0000\n",
      "Epoch 115/150\n",
      "15/15 [==============================] - 0s 1ms/step - loss: 0.0011 - accuracy: 1.0000 - precision_2: 1.0000 - recall_2: 1.0000\n",
      "Epoch 116/150\n",
      "15/15 [==============================] - 0s 1ms/step - loss: 0.0011 - accuracy: 1.0000 - precision_2: 1.0000 - recall_2: 1.0000\n",
      "Epoch 117/150\n",
      "15/15 [==============================] - 0s 1ms/step - loss: 0.0010 - accuracy: 1.0000 - precision_2: 1.0000 - recall_2: 1.0000\n",
      "Epoch 118/150\n",
      "15/15 [==============================] - 0s 1ms/step - loss: 0.0010 - accuracy: 1.0000 - precision_2: 1.0000 - recall_2: 1.0000\n",
      "Epoch 119/150\n",
      "15/15 [==============================] - 0s 1ms/step - loss: 9.8691e-04 - accuracy: 1.0000 - precision_2: 1.0000 - recall_2: 1.0000\n",
      "Epoch 120/150\n",
      "15/15 [==============================] - 0s 1ms/step - loss: 9.7252e-04 - accuracy: 1.0000 - precision_2: 1.0000 - recall_2: 1.0000\n",
      "Epoch 121/150\n",
      "15/15 [==============================] - 0s 1ms/step - loss: 9.4899e-04 - accuracy: 1.0000 - precision_2: 1.0000 - recall_2: 1.0000\n",
      "Epoch 122/150\n",
      "15/15 [==============================] - 0s 1ms/step - loss: 9.2588e-04 - accuracy: 1.0000 - precision_2: 1.0000 - recall_2: 1.0000\n",
      "Epoch 123/150\n",
      "15/15 [==============================] - 0s 1ms/step - loss: 9.0245e-04 - accuracy: 1.0000 - precision_2: 1.0000 - recall_2: 1.0000\n",
      "Epoch 124/150\n",
      "15/15 [==============================] - 0s 1ms/step - loss: 8.8436e-04 - accuracy: 1.0000 - precision_2: 1.0000 - recall_2: 1.0000\n",
      "Epoch 125/150\n",
      "15/15 [==============================] - 0s 1ms/step - loss: 8.6473e-04 - accuracy: 1.0000 - precision_2: 1.0000 - recall_2: 1.0000\n",
      "Epoch 126/150\n",
      "15/15 [==============================] - 0s 1ms/step - loss: 8.6049e-04 - accuracy: 1.0000 - precision_2: 1.0000 - recall_2: 1.0000\n",
      "Epoch 127/150\n",
      "15/15 [==============================] - 0s 1ms/step - loss: 8.2188e-04 - accuracy: 1.0000 - precision_2: 1.0000 - recall_2: 1.0000\n",
      "Epoch 128/150\n",
      "15/15 [==============================] - 0s 1ms/step - loss: 8.1409e-04 - accuracy: 1.0000 - precision_2: 1.0000 - recall_2: 1.0000\n",
      "Epoch 129/150\n",
      "15/15 [==============================] - 0s 1ms/step - loss: 7.9016e-04 - accuracy: 1.0000 - precision_2: 1.0000 - recall_2: 1.0000\n",
      "Epoch 130/150\n",
      "15/15 [==============================] - 0s 1ms/step - loss: 7.8386e-04 - accuracy: 1.0000 - precision_2: 1.0000 - recall_2: 1.0000\n",
      "Epoch 131/150\n",
      "15/15 [==============================] - 0s 1ms/step - loss: 7.4417e-04 - accuracy: 1.0000 - precision_2: 1.0000 - recall_2: 1.0000\n",
      "Epoch 132/150\n",
      "15/15 [==============================] - 0s 1ms/step - loss: 7.5257e-04 - accuracy: 1.0000 - precision_2: 1.0000 - recall_2: 1.0000\n",
      "Epoch 133/150\n",
      "15/15 [==============================] - 0s 1ms/step - loss: 7.1733e-04 - accuracy: 1.0000 - precision_2: 1.0000 - recall_2: 1.0000\n",
      "Epoch 134/150\n",
      "15/15 [==============================] - 0s 1ms/step - loss: 7.1780e-04 - accuracy: 1.0000 - precision_2: 1.0000 - recall_2: 1.0000\n",
      "Epoch 135/150\n",
      "15/15 [==============================] - 0s 1ms/step - loss: 6.9203e-04 - accuracy: 1.0000 - precision_2: 1.0000 - recall_2: 1.0000\n",
      "Epoch 136/150\n",
      "15/15 [==============================] - 0s 1ms/step - loss: 6.8236e-04 - accuracy: 1.0000 - precision_2: 1.0000 - recall_2: 1.0000\n",
      "Epoch 137/150\n",
      "15/15 [==============================] - 0s 2ms/step - loss: 6.6404e-04 - accuracy: 1.0000 - precision_2: 1.0000 - recall_2: 1.0000\n",
      "Epoch 138/150\n",
      "15/15 [==============================] - 0s 2ms/step - loss: 6.6533e-04 - accuracy: 1.0000 - precision_2: 1.0000 - recall_2: 1.0000\n",
      "Epoch 139/150\n",
      "15/15 [==============================] - 0s 2ms/step - loss: 6.4876e-04 - accuracy: 1.0000 - precision_2: 1.0000 - recall_2: 1.0000\n",
      "Epoch 140/150\n",
      "15/15 [==============================] - 0s 2ms/step - loss: 6.3425e-04 - accuracy: 1.0000 - precision_2: 1.0000 - recall_2: 1.0000\n",
      "Epoch 141/150\n",
      "15/15 [==============================] - 0s 1ms/step - loss: 6.1062e-04 - accuracy: 1.0000 - precision_2: 1.0000 - recall_2: 1.0000\n",
      "Epoch 142/150\n",
      "15/15 [==============================] - 0s 1ms/step - loss: 6.0000e-04 - accuracy: 1.0000 - precision_2: 1.0000 - recall_2: 1.0000\n",
      "Epoch 143/150\n",
      "15/15 [==============================] - 0s 1ms/step - loss: 5.8641e-04 - accuracy: 1.0000 - precision_2: 1.0000 - recall_2: 1.0000\n",
      "Epoch 144/150\n",
      "15/15 [==============================] - 0s 1ms/step - loss: 5.8640e-04 - accuracy: 1.0000 - precision_2: 1.0000 - recall_2: 1.0000\n",
      "Epoch 145/150\n",
      "15/15 [==============================] - 0s 1ms/step - loss: 5.8958e-04 - accuracy: 1.0000 - precision_2: 1.0000 - recall_2: 1.0000\n",
      "Epoch 146/150\n",
      "15/15 [==============================] - 0s 1ms/step - loss: 5.5629e-04 - accuracy: 1.0000 - precision_2: 1.0000 - recall_2: 1.0000\n",
      "Epoch 147/150\n",
      "15/15 [==============================] - 0s 1ms/step - loss: 5.5341e-04 - accuracy: 1.0000 - precision_2: 1.0000 - recall_2: 1.0000\n",
      "Epoch 148/150\n",
      "15/15 [==============================] - 0s 1ms/step - loss: 5.3357e-04 - accuracy: 1.0000 - precision_2: 1.0000 - recall_2: 1.0000\n",
      "Epoch 149/150\n",
      "15/15 [==============================] - 0s 1ms/step - loss: 5.2614e-04 - accuracy: 1.0000 - precision_2: 1.0000 - recall_2: 1.0000\n",
      "Epoch 150/150\n",
      "15/15 [==============================] - 0s 1ms/step - loss: 5.0951e-04 - accuracy: 1.0000 - precision_2: 1.0000 - recall_2: 1.0000\n"
     ]
    },
    {
     "data": {
      "text/plain": "<Figure size 640x480 with 1 Axes>",
      "image/png": "[encoded data removed]"
     },
     "metadata": {},
     "output_type": "display_data"
    },
    {
     "name": "stdout",
     "output_type": "stream",
     "text": [
      "2/2 [==============================] - 0s 4ms/step - loss: 1.4479 - accuracy: 0.8000 - precision_2: 0.7750 - recall_2: 0.9118\n",
      "Accuracy on testing data: 80.00\n",
      "Precision on testing data: 77.50\n",
      "Recall on testing data: 91.18\n"
     ]
    }
   ],
   "source": [
    "from keras.models import Sequential\n",
    "from keras.layers import Dense\n",
    "import matplotlib.pyplot as plt\n",
    "from keras import metrics\n",
    "\n",
    "# Initialize the constructor\n",
    "model = Sequential()\n",
    "\n",
    "# Add an input layer \n",
    "model.add(Dense(64, activation='relu', input_shape=(75,)))\n",
    "\n",
    "# Add one hidden layer \n",
    "model.add(Dense(32, activation='relu'))\n",
    "\n",
    "# Add an output layer \n",
    "model.add(Dense(1, activation='sigmoid'))\n",
    "\n",
    "# Compile the model\n",
    "model.compile(loss='binary_crossentropy',\n",
    "              optimizer='adam',\n",
    "              metrics=['accuracy', metrics.Precision(), metrics.Recall()])\n",
    "history = model.fit(X_train, y_train, epochs=150, batch_size=10, verbose=1)\n",
    "\n",
    "plt.plot(history.history['accuracy'], label='accuracy')\n",
    "plt.plot(history.history['loss'], label='training loss')\n",
    "plt.legend()\n",
    "plt.gray()\n",
    "plt.show()\n",
    "\n",
    "_, accuracy, precision, recall = model.evaluate(X_test, y_test)\n",
    "print('Accuracy on testing data: %.2f' % (accuracy * 100))\n",
    "print('Precision on testing data: %.2f' % (precision * 100))\n",
    "print('Recall on testing data: %.2f' % (recall * 100))"
   ],
   "metadata": {
    "collapsed": false,
    "ExecuteTime": {
     "end_time": "2023-11-08T12:04:38.034561065Z",
     "start_time": "2023-11-08T12:04:33.485652477Z"
    }
   },
   "id": "893ca021f2b77ec2"
  },
  {
   "cell_type": "code",
   "execution_count": 35,
   "outputs": [],
   "source": [
    "from keras_tuner import HyperParameters\n",
    "from keras.models import Sequential\n",
    "from keras.layers import Dense, Dropout\n",
    "import keras\n",
    "\n",
    "\n",
    "def build_model(hp: HyperParameters):\n",
    "    model = Sequential()\n",
    "    model.add(Dense(units=hp.Int('units_0',\n",
    "                                 min_value=32,\n",
    "                                 max_value=512,\n",
    "                                 step=32),\n",
    "                    activation='relu',\n",
    "                    input_dim=75))\n",
    "    for i in range(hp.Int('num_layers', 1, 7)):\n",
    "        model.add(Dense(units=hp.Int('units_' + str(i + 1),\n",
    "                                     min_value=32,\n",
    "                                     max_value=1024,\n",
    "                                     step=32),\n",
    "                        activation='relu'))\n",
    "        model.add(Dropout(hp.Float('dropout_' + str(i + 1),\n",
    "                                   min_value=0.0,\n",
    "                                   max_value=0.5,\n",
    "                                   step=0.1)))\n",
    "    model.add(Dense(1, activation='sigmoid'))\n",
    "    model.compile(\n",
    "        optimizer=keras.optimizers.Adam(\n",
    "            hp.Choice('learning_rate',\n",
    "                      values=[1e-2, 1e-3, 1e-4])),\n",
    "        loss='binary_crossentropy',\n",
    "        metrics=['accuracy', metrics.Precision(), metrics.Recall()])\n",
    "    return model"
   ],
   "metadata": {
    "collapsed": false,
    "ExecuteTime": {
     "end_time": "2023-11-08T12:26:59.918175985Z",
     "start_time": "2023-11-08T12:26:59.910463978Z"
    }
   },
   "id": "19a6ce2b4ee14cb0"
  },
  {
   "cell_type": "code",
   "execution_count": 36,
   "outputs": [
    {
     "name": "stdout",
     "output_type": "stream",
     "text": [
      "Trial 5 Complete [00h 00m 32s]\n",
      "val_accuracy: 0.9111111164093018\n",
      "\n",
      "Best val_accuracy So Far: 0.9222222367922465\n",
      "Total elapsed time: 00h 03m 09s\n"
     ]
    }
   ],
   "source": [
    "from keras_tuner.tuners import RandomSearch\n",
    "\n",
    "tuner = RandomSearch(\n",
    "    build_model,\n",
    "    objective='val_accuracy',\n",
    "    max_trials=5,\n",
    "    executions_per_trial=3,\n",
    "    directory='.model_cache',\n",
    "    project_name='Lab 03: ECG'\n",
    ")\n",
    "\n",
    "tuner.search(X_train, y_train,\n",
    "             epochs=150,\n",
    "             batch_size=10,\n",
    "             validation_data=(X_test, y_test))"
   ],
   "metadata": {
    "collapsed": false
   },
   "id": "4cdc1323ff11793c"
  },
  {
   "cell_type": "code",
   "execution_count": 38,
   "outputs": [
    {
     "name": "stdout",
     "output_type": "stream",
     "text": [
      "2/2 [==============================] - 0s 10ms/step - loss: 0.2866 - accuracy: 0.9333 - precision: 0.9412 - recall: 0.9412\n",
      "Test loss: 0.2865874469280243\n",
      "Test accuracy: 0.9333333373069763\n",
      "Test precision: 0.9411764740943909\n",
      "Test recall: 0.9411764740943909\n"
     ]
    }
   ],
   "source": [
    "models = tuner.get_best_models(num_models=1)\n",
    "\n",
    "# Evaluate the best model\n",
    "for model in models:\n",
    "    loss, accuracy, precision, recall = model.evaluate(X_test, y_test)\n",
    "    print('Test loss:', loss)\n",
    "    print('Test accuracy:', accuracy)\n",
    "    print('Test precision:', precision)\n",
    "    print('Test recall:', recall)"
   ],
   "metadata": {
    "collapsed": false,
    "ExecuteTime": {
     "end_time": "2023-11-08T12:32:35.094761879Z",
     "start_time": "2023-11-08T12:32:34.185070546Z"
    }
   },
   "id": "2fa02d801b7f1724"
  },
  {
   "cell_type": "code",
   "execution_count": 39,
   "outputs": [
    {
     "name": "stdout",
     "output_type": "stream",
     "text": [
      "\n",
      "The hyperparameter search is complete. The optimal number of units in the first layer is 352, \n",
      "the optimal number of layers is 3, and the optimal learning rate is 0.01.\n"
     ]
    },
    {
     "data": {
      "text/plain": "{'_name_scopes': [],\n '_conditions': [],\n '_hps': defaultdict(list,\n             {'units_0': [Int(name: 'units_0', min_value: 32, max_value: 512, step: 32, sampling: linear, default: 32)],\n              'num_layers': [Int(name: 'num_layers', min_value: 1, max_value: 7, step: 1, sampling: linear, default: 1)],\n              'units_1': [Int(name: 'units_1', min_value: 32, max_value: 1024, step: 32, sampling: linear, default: 32)],\n              'dropout_1': [Float(name: 'dropout_1', min_value: '0.0', max_value: '0.5', step: '0.1', sampling: 'linear', default: '0.0')],\n              'learning_rate': [Choice(name: 'learning_rate', values: [0.01, 0.001, 0.0001], ordered: True, default: 0.01)],\n              'units_2': [Int(name: 'units_2', min_value: 32, max_value: 1024, step: 32, sampling: linear, default: 32)],\n              'dropout_2': [Float(name: 'dropout_2', min_value: '0.0', max_value: '0.5', step: '0.1', sampling: 'linear', default: '0.0')],\n              'units_3': [Int(name: 'units_3', min_value: 32, max_value: 1024, step: 32, sampling: linear, default: 32)],\n              'dropout_3': [Float(name: 'dropout_3', min_value: '0.0', max_value: '0.5', step: '0.1', sampling: 'linear', default: '0.0')]}),\n '_space': [Int(name: 'units_0', min_value: 32, max_value: 512, step: 32, sampling: linear, default: 32),\n  Int(name: 'num_layers', min_value: 1, max_value: 7, step: 1, sampling: linear, default: 1),\n  Int(name: 'units_1', min_value: 32, max_value: 1024, step: 32, sampling: linear, default: 32),\n  Float(name: 'dropout_1', min_value: '0.0', max_value: '0.5', step: '0.1', sampling: 'linear', default: '0.0'),\n  Choice(name: 'learning_rate', values: [0.01, 0.001, 0.0001], ordered: True, default: 0.01),\n  Int(name: 'units_2', min_value: 32, max_value: 1024, step: 32, sampling: linear, default: 32),\n  Float(name: 'dropout_2', min_value: '0.0', max_value: '0.5', step: '0.1', sampling: 'linear', default: '0.0'),\n  Int(name: 'units_3', min_value: 32, max_value: 1024, step: 32, sampling: linear, default: 32),\n  Float(name: 'dropout_3', min_value: '0.0', max_value: '0.5', step: '0.1', sampling: 'linear', default: '0.0')],\n 'values': {'units_0': 352,\n  'num_layers': 3,\n  'units_1': 640,\n  'dropout_1': 0.0,\n  'learning_rate': 0.01,\n  'units_2': 32,\n  'dropout_2': 0.0,\n  'units_3': 32,\n  'dropout_3': 0.0},\n 'active_scopes': [],\n 'inactive_scopes': []}"
     },
     "execution_count": 39,
     "metadata": {},
     "output_type": "execute_result"
    }
   ],
   "source": [
    "best_hyperparameters = tuner.get_best_hyperparameters(num_trials=1)[0]\n",
    "print(f\"\"\"\n",
    "The hyperparameter search is complete. The optimal number of units in the first layer is {best_hyperparameters.get('units_0')}, \n",
    "the optimal number of layers is {best_hyperparameters.get('num_layers')}, and the optimal learning rate is {best_hyperparameters.get('learning_rate')}.\n",
    "\"\"\")\n",
    "best_hyperparameters.__dict__"
   ],
   "metadata": {
    "collapsed": false,
    "ExecuteTime": {
     "end_time": "2023-11-08T12:34:14.952170794Z",
     "start_time": "2023-11-08T12:34:14.945606126Z"
    }
   },
   "id": "8d6698349bb0d9ab"
  },
  {
   "cell_type": "code",
   "execution_count": 18,
   "outputs": [],
   "source": [],
   "metadata": {
    "collapsed": false,
    "ExecuteTime": {
     "end_time": "2023-11-08T11:49:26.698470513Z",
     "start_time": "2023-11-08T11:49:26.697816690Z"
    }
   },
   "id": "d5aaf0e49dbcb216"
  }
 ],
 "metadata": {
  "kernelspec": {
   "display_name": "Python 3",
   "language": "python",
   "name": "python3"
  },
  "language_info": {
   "codemirror_mode": {
    "name": "ipython",
    "version": 2
   },
   "file_extension": ".py",
   "mimetype": "text/x-python",
   "name": "python",
   "nbconvert_exporter": "python",
   "pygments_lexer": "ipython2",
   "version": "2.7.6"
  }
 },
 "nbformat": 4,
 "nbformat_minor": 5
}
