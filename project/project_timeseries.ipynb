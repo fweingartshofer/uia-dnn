{
 "cells": [
  {
   "cell_type": "markdown",
   "source": [
    "# Loading the Dataset"
   ],
   "metadata": {
    "collapsed": false
   },
   "id": "aea29127ef3ff16f"
  },
  {
   "cell_type": "code",
   "execution_count": 5,
   "outputs": [
    {
     "data": {
      "text/plain": "           0         1         2         3         4         5         6    \\\n0     0.022859  0.010316  0.013250  0.017751  0.002553  0.007725  0.004325   \n1     0.012268  0.016150  0.015895  0.012671  0.008774  0.005685  0.006093   \n2     0.002159 -0.000272  0.002631  0.003376  0.000057  0.001268 -0.001209   \n3    -0.000873 -0.005482 -0.004678 -0.000221  0.001588  0.009021  0.020953   \n4    -0.001574  0.000201 -0.000970 -0.000673 -0.000693 -0.002041 -0.000265   \n...        ...       ...       ...       ...       ...       ...       ...   \n7347  0.456170  0.700776  0.997301  1.004445  0.722260  0.384807  0.080493   \n7348  0.453560  0.670788  0.676179  0.495978  0.281462  0.096833  0.036042   \n7349  0.300847  0.351178  0.272351  0.161631  0.092803  0.060685  0.138459   \n7350  0.217504  0.158497  0.186879  0.192339  0.240986  0.281897  0.219482   \n7351  0.227798  0.103476 -0.075655 -0.126216 -0.070250  0.039704  0.218904   \n\n           7         8         9    ...       118       119       120  \\\n0     0.010617  0.017189  0.010511  ...  0.100058  0.098564  0.093177   \n1     0.008383  0.011140  0.012406  ...  0.094537  0.098759  0.101977   \n2    -0.002290  0.000451 -0.000389  ...  0.085343  0.087155  0.084546   \n3     0.028212  0.028609  0.024456  ...  0.088112  0.087322  0.083738   \n4    -0.000217 -0.001554 -0.000895  ...  0.088028  0.090312  0.088713   \n...        ...       ...       ...  ...       ...       ...       ...   \n7347 -0.179432 -0.397329 -0.459786  ... -0.115192 -0.086700 -0.101805   \n7348 -0.002569 -0.148088 -0.354664  ...  0.028204  0.045156  0.058035   \n7349  0.258722  0.418766  0.620477  ... -0.117974 -0.080109 -0.015432   \n7350  0.228801  0.417526  0.721561  ... -0.032441 -0.001154  0.028541   \n7351  0.410941  0.558596  0.673545  ... -0.429072 -0.392275 -0.344507   \n\n           121       122       123       124       125       126       127  \n0     0.088742  0.090505  0.094843  0.098350  0.100385  0.099874  0.094987  \n1     0.095360  0.089466  0.095126  0.099496  0.093535  0.089035  0.090612  \n2     0.082166  0.081972  0.081413  0.081936  0.083011  0.082334  0.081487  \n3     0.082701  0.084490  0.082785  0.084084  0.085761  0.083275  0.081404  \n4     0.086957  0.086522  0.081640  0.079652  0.081329  0.085397  0.088816  \n...        ...       ...       ...       ...       ...       ...       ...  \n7347 -0.095273 -0.029541  0.026907  0.069472  0.086288  0.099188  0.129060  \n7348  0.064945  0.089264  0.108987  0.150238  0.199324  0.236369  0.253029  \n7349  0.031859  0.072452  0.065696  0.079038  0.111295  0.126302  0.188621  \n7350  0.052355  0.040251  0.060450  0.108725  0.128925  0.172251  0.210071  \n7351 -0.281695 -0.223023 -0.205803 -0.180733 -0.156105 -0.122798 -0.083572  \n\n[7352 rows x 1152 columns]",
      "text/html": "<div>\n<style scoped>\n    .dataframe tbody tr th:only-of-type {\n        vertical-align: middle;\n    }\n\n    .dataframe tbody tr th {\n        vertical-align: top;\n    }\n\n    .dataframe thead th {\n        text-align: right;\n    }\n</style>\n<table border=\"1\" class=\"dataframe\">\n  <thead>\n    <tr style=\"text-align: right;\">\n      <th></th>\n      <th>0</th>\n      <th>1</th>\n      <th>2</th>\n      <th>3</th>\n      <th>4</th>\n      <th>5</th>\n      <th>6</th>\n      <th>7</th>\n      <th>8</th>\n      <th>9</th>\n      <th>...</th>\n      <th>118</th>\n      <th>119</th>\n      <th>120</th>\n      <th>121</th>\n      <th>122</th>\n      <th>123</th>\n      <th>124</th>\n      <th>125</th>\n      <th>126</th>\n      <th>127</th>\n    </tr>\n  </thead>\n  <tbody>\n    <tr>\n      <th>0</th>\n      <td>0.022859</td>\n      <td>0.010316</td>\n      <td>0.013250</td>\n      <td>0.017751</td>\n      <td>0.002553</td>\n      <td>0.007725</td>\n      <td>0.004325</td>\n      <td>0.010617</td>\n      <td>0.017189</td>\n      <td>0.010511</td>\n      <td>...</td>\n      <td>0.100058</td>\n      <td>0.098564</td>\n      <td>0.093177</td>\n      <td>0.088742</td>\n      <td>0.090505</td>\n      <td>0.094843</td>\n      <td>0.098350</td>\n      <td>0.100385</td>\n      <td>0.099874</td>\n      <td>0.094987</td>\n    </tr>\n    <tr>\n      <th>1</th>\n      <td>0.012268</td>\n      <td>0.016150</td>\n      <td>0.015895</td>\n      <td>0.012671</td>\n      <td>0.008774</td>\n      <td>0.005685</td>\n      <td>0.006093</td>\n      <td>0.008383</td>\n      <td>0.011140</td>\n      <td>0.012406</td>\n      <td>...</td>\n      <td>0.094537</td>\n      <td>0.098759</td>\n      <td>0.101977</td>\n      <td>0.095360</td>\n      <td>0.089466</td>\n      <td>0.095126</td>\n      <td>0.099496</td>\n      <td>0.093535</td>\n      <td>0.089035</td>\n      <td>0.090612</td>\n    </tr>\n    <tr>\n      <th>2</th>\n      <td>0.002159</td>\n      <td>-0.000272</td>\n      <td>0.002631</td>\n      <td>0.003376</td>\n      <td>0.000057</td>\n      <td>0.001268</td>\n      <td>-0.001209</td>\n      <td>-0.002290</td>\n      <td>0.000451</td>\n      <td>-0.000389</td>\n      <td>...</td>\n      <td>0.085343</td>\n      <td>0.087155</td>\n      <td>0.084546</td>\n      <td>0.082166</td>\n      <td>0.081972</td>\n      <td>0.081413</td>\n      <td>0.081936</td>\n      <td>0.083011</td>\n      <td>0.082334</td>\n      <td>0.081487</td>\n    </tr>\n    <tr>\n      <th>3</th>\n      <td>-0.000873</td>\n      <td>-0.005482</td>\n      <td>-0.004678</td>\n      <td>-0.000221</td>\n      <td>0.001588</td>\n      <td>0.009021</td>\n      <td>0.020953</td>\n      <td>0.028212</td>\n      <td>0.028609</td>\n      <td>0.024456</td>\n      <td>...</td>\n      <td>0.088112</td>\n      <td>0.087322</td>\n      <td>0.083738</td>\n      <td>0.082701</td>\n      <td>0.084490</td>\n      <td>0.082785</td>\n      <td>0.084084</td>\n      <td>0.085761</td>\n      <td>0.083275</td>\n      <td>0.081404</td>\n    </tr>\n    <tr>\n      <th>4</th>\n      <td>-0.001574</td>\n      <td>0.000201</td>\n      <td>-0.000970</td>\n      <td>-0.000673</td>\n      <td>-0.000693</td>\n      <td>-0.002041</td>\n      <td>-0.000265</td>\n      <td>-0.000217</td>\n      <td>-0.001554</td>\n      <td>-0.000895</td>\n      <td>...</td>\n      <td>0.088028</td>\n      <td>0.090312</td>\n      <td>0.088713</td>\n      <td>0.086957</td>\n      <td>0.086522</td>\n      <td>0.081640</td>\n      <td>0.079652</td>\n      <td>0.081329</td>\n      <td>0.085397</td>\n      <td>0.088816</td>\n    </tr>\n    <tr>\n      <th>...</th>\n      <td>...</td>\n      <td>...</td>\n      <td>...</td>\n      <td>...</td>\n      <td>...</td>\n      <td>...</td>\n      <td>...</td>\n      <td>...</td>\n      <td>...</td>\n      <td>...</td>\n      <td>...</td>\n      <td>...</td>\n      <td>...</td>\n      <td>...</td>\n      <td>...</td>\n      <td>...</td>\n      <td>...</td>\n      <td>...</td>\n      <td>...</td>\n      <td>...</td>\n      <td>...</td>\n    </tr>\n    <tr>\n      <th>7347</th>\n      <td>0.456170</td>\n      <td>0.700776</td>\n      <td>0.997301</td>\n      <td>1.004445</td>\n      <td>0.722260</td>\n      <td>0.384807</td>\n      <td>0.080493</td>\n      <td>-0.179432</td>\n      <td>-0.397329</td>\n      <td>-0.459786</td>\n      <td>...</td>\n      <td>-0.115192</td>\n      <td>-0.086700</td>\n      <td>-0.101805</td>\n      <td>-0.095273</td>\n      <td>-0.029541</td>\n      <td>0.026907</td>\n      <td>0.069472</td>\n      <td>0.086288</td>\n      <td>0.099188</td>\n      <td>0.129060</td>\n    </tr>\n    <tr>\n      <th>7348</th>\n      <td>0.453560</td>\n      <td>0.670788</td>\n      <td>0.676179</td>\n      <td>0.495978</td>\n      <td>0.281462</td>\n      <td>0.096833</td>\n      <td>0.036042</td>\n      <td>-0.002569</td>\n      <td>-0.148088</td>\n      <td>-0.354664</td>\n      <td>...</td>\n      <td>0.028204</td>\n      <td>0.045156</td>\n      <td>0.058035</td>\n      <td>0.064945</td>\n      <td>0.089264</td>\n      <td>0.108987</td>\n      <td>0.150238</td>\n      <td>0.199324</td>\n      <td>0.236369</td>\n      <td>0.253029</td>\n    </tr>\n    <tr>\n      <th>7349</th>\n      <td>0.300847</td>\n      <td>0.351178</td>\n      <td>0.272351</td>\n      <td>0.161631</td>\n      <td>0.092803</td>\n      <td>0.060685</td>\n      <td>0.138459</td>\n      <td>0.258722</td>\n      <td>0.418766</td>\n      <td>0.620477</td>\n      <td>...</td>\n      <td>-0.117974</td>\n      <td>-0.080109</td>\n      <td>-0.015432</td>\n      <td>0.031859</td>\n      <td>0.072452</td>\n      <td>0.065696</td>\n      <td>0.079038</td>\n      <td>0.111295</td>\n      <td>0.126302</td>\n      <td>0.188621</td>\n    </tr>\n    <tr>\n      <th>7350</th>\n      <td>0.217504</td>\n      <td>0.158497</td>\n      <td>0.186879</td>\n      <td>0.192339</td>\n      <td>0.240986</td>\n      <td>0.281897</td>\n      <td>0.219482</td>\n      <td>0.228801</td>\n      <td>0.417526</td>\n      <td>0.721561</td>\n      <td>...</td>\n      <td>-0.032441</td>\n      <td>-0.001154</td>\n      <td>0.028541</td>\n      <td>0.052355</td>\n      <td>0.040251</td>\n      <td>0.060450</td>\n      <td>0.108725</td>\n      <td>0.128925</td>\n      <td>0.172251</td>\n      <td>0.210071</td>\n    </tr>\n    <tr>\n      <th>7351</th>\n      <td>0.227798</td>\n      <td>0.103476</td>\n      <td>-0.075655</td>\n      <td>-0.126216</td>\n      <td>-0.070250</td>\n      <td>0.039704</td>\n      <td>0.218904</td>\n      <td>0.410941</td>\n      <td>0.558596</td>\n      <td>0.673545</td>\n      <td>...</td>\n      <td>-0.429072</td>\n      <td>-0.392275</td>\n      <td>-0.344507</td>\n      <td>-0.281695</td>\n      <td>-0.223023</td>\n      <td>-0.205803</td>\n      <td>-0.180733</td>\n      <td>-0.156105</td>\n      <td>-0.122798</td>\n      <td>-0.083572</td>\n    </tr>\n  </tbody>\n</table>\n<p>7352 rows × 1152 columns</p>\n</div>"
     },
     "execution_count": 5,
     "metadata": {},
     "output_type": "execute_result"
    }
   ],
   "source": [
    "import os\n",
    "import pandas as pd\n",
    "\n",
    "\n",
    "def load_data_from_directory(directory):\n",
    "    data_list = pd.DataFrame()\n",
    "\n",
    "    for filename in os.listdir(directory):\n",
    "        path = os.path.join(directory, filename)\n",
    "        df = pd.read_csv(path, header=None, delim_whitespace=True)\n",
    "        data_list = pd.concat([data_list, df], axis=1)\n",
    "\n",
    "    return data_list\n",
    "\n",
    "\n",
    "X = load_data_from_directory('./har/UCI HAR Dataset/train/Inertial Signals/')\n",
    "X"
   ],
   "metadata": {
    "collapsed": false,
    "ExecuteTime": {
     "end_time": "2023-11-20T15:53:01.658926277Z",
     "start_time": "2023-11-20T15:53:00.426760216Z"
    }
   },
   "id": "2759107c7d7add9f"
  },
  {
   "cell_type": "code",
   "execution_count": 4,
   "outputs": [
    {
     "name": "stderr",
     "output_type": "stream",
     "text": [
      "2023-11-20 16:51:45.932700: I tensorflow/core/util/port.cc:111] oneDNN custom operations are on. You may see slightly different numerical results due to floating-point round-off errors from different computation orders. To turn them off, set the environment variable `TF_ENABLE_ONEDNN_OPTS=0`.\n",
      "2023-11-20 16:51:45.958470: E tensorflow/compiler/xla/stream_executor/cuda/cuda_dnn.cc:9342] Unable to register cuDNN factory: Attempting to register factory for plugin cuDNN when one has already been registered\n",
      "2023-11-20 16:51:45.958499: E tensorflow/compiler/xla/stream_executor/cuda/cuda_fft.cc:609] Unable to register cuFFT factory: Attempting to register factory for plugin cuFFT when one has already been registered\n",
      "2023-11-20 16:51:45.958517: E tensorflow/compiler/xla/stream_executor/cuda/cuda_blas.cc:1518] Unable to register cuBLAS factory: Attempting to register factory for plugin cuBLAS when one has already been registered\n",
      "2023-11-20 16:51:45.963582: I tensorflow/core/platform/cpu_feature_guard.cc:182] This TensorFlow binary is optimized to use available CPU instructions in performance-critical operations.\n",
      "To enable the following instructions: AVX2 AVX512F AVX512_VNNI FMA, in other operations, rebuild TensorFlow with the appropriate compiler flags.\n",
      "2023-11-20 16:51:46.829852: W tensorflow/compiler/tf2tensorrt/utils/py_utils.cc:38] TF-TRT Warning: Could not find TensorRT\n"
     ]
    },
    {
     "data": {
      "text/plain": "array([[0., 0., 0., 0., 1., 0.],\n       [0., 0., 0., 0., 1., 0.],\n       [0., 0., 0., 0., 1., 0.],\n       ...,\n       [0., 1., 0., 0., 0., 0.],\n       [0., 1., 0., 0., 0., 0.],\n       [0., 1., 0., 0., 0., 0.]], dtype=float32)"
     },
     "execution_count": 4,
     "metadata": {},
     "output_type": "execute_result"
    }
   ],
   "source": [
    "from keras.src.utils import np_utils\n",
    "\n",
    "y = pd.read_csv('./har/UCI HAR Dataset/train/y_train.txt', header=None, names=['label']).apply(lambda x: x - 1)\n",
    "y = np_utils.to_categorical(y, num_classes=6)\n",
    "y"
   ],
   "metadata": {
    "collapsed": false,
    "ExecuteTime": {
     "end_time": "2023-11-20T15:51:47.467846855Z",
     "start_time": "2023-11-20T15:51:45.749524897Z"
    }
   },
   "id": "18b040782ff067d6"
  },
  {
   "cell_type": "code",
   "execution_count": 42,
   "outputs": [
    {
     "ename": "FileNotFoundError",
     "evalue": "[Errno 2] No such file or directory: '/har/UCI HAR Dataset/test/Inertial Signals'",
     "output_type": "error",
     "traceback": [
      "\u001B[0;31m---------------------------------------------------------------------------\u001B[0m",
      "\u001B[0;31mFileNotFoundError\u001B[0m                         Traceback (most recent call last)",
      "Cell \u001B[0;32mIn[42], line 1\u001B[0m\n\u001B[0;32m----> 1\u001B[0m X_heldback \u001B[38;5;241m=\u001B[39m \u001B[43mload_data_from_directory\u001B[49m\u001B[43m(\u001B[49m\u001B[38;5;124;43m\"\u001B[39;49m\u001B[38;5;124;43m/har/UCI HAR Dataset/test/Inertial Signals\u001B[39;49m\u001B[38;5;124;43m\"\u001B[39;49m\u001B[43m)\u001B[49m\n\u001B[1;32m      2\u001B[0m y_heldback \u001B[38;5;241m=\u001B[39m pd\u001B[38;5;241m.\u001B[39mread_csv(\u001B[38;5;124m'\u001B[39m\u001B[38;5;124m./har/UCI HAR Dataset/test/y_train.txt\u001B[39m\u001B[38;5;124m'\u001B[39m, header\u001B[38;5;241m=\u001B[39m\u001B[38;5;28;01mNone\u001B[39;00m, names\u001B[38;5;241m=\u001B[39m[\u001B[38;5;124m'\u001B[39m\u001B[38;5;124mlabel\u001B[39m\u001B[38;5;124m'\u001B[39m])\u001B[38;5;241m.\u001B[39mapply(\u001B[38;5;28;01mlambda\u001B[39;00m x: x \u001B[38;5;241m-\u001B[39m \u001B[38;5;241m1\u001B[39m)\n\u001B[1;32m      3\u001B[0m y_heldback \u001B[38;5;241m=\u001B[39m np_utils\u001B[38;5;241m.\u001B[39mto_categorical(y_heldback, num_classes\u001B[38;5;241m=\u001B[39m\u001B[38;5;241m6\u001B[39m)\n",
      "Cell \u001B[0;32mIn[5], line 7\u001B[0m, in \u001B[0;36mload_data_from_directory\u001B[0;34m(directory)\u001B[0m\n\u001B[1;32m      4\u001B[0m \u001B[38;5;28;01mdef\u001B[39;00m \u001B[38;5;21mload_data_from_directory\u001B[39m(directory):\n\u001B[1;32m      5\u001B[0m     data_list \u001B[38;5;241m=\u001B[39m pd\u001B[38;5;241m.\u001B[39mDataFrame()\n\u001B[0;32m----> 7\u001B[0m     \u001B[38;5;28;01mfor\u001B[39;00m filename \u001B[38;5;129;01min\u001B[39;00m \u001B[43mos\u001B[49m\u001B[38;5;241;43m.\u001B[39;49m\u001B[43mlistdir\u001B[49m\u001B[43m(\u001B[49m\u001B[43mdirectory\u001B[49m\u001B[43m)\u001B[49m:\n\u001B[1;32m      8\u001B[0m         path \u001B[38;5;241m=\u001B[39m os\u001B[38;5;241m.\u001B[39mpath\u001B[38;5;241m.\u001B[39mjoin(directory, filename)\n\u001B[1;32m      9\u001B[0m         df \u001B[38;5;241m=\u001B[39m pd\u001B[38;5;241m.\u001B[39mread_csv(path, header\u001B[38;5;241m=\u001B[39m\u001B[38;5;28;01mNone\u001B[39;00m, delim_whitespace\u001B[38;5;241m=\u001B[39m\u001B[38;5;28;01mTrue\u001B[39;00m)\n",
      "\u001B[0;31mFileNotFoundError\u001B[0m: [Errno 2] No such file or directory: '/har/UCI HAR Dataset/test/Inertial Signals'"
     ]
    }
   ],
   "source": [],
   "metadata": {
    "collapsed": false,
    "ExecuteTime": {
     "end_time": "2023-11-20T16:45:27.884098057Z",
     "start_time": "2023-11-20T16:45:27.836650391Z"
    }
   },
   "id": "b078fe0bad2fa3c7"
  },
  {
   "cell_type": "code",
   "execution_count": 14,
   "outputs": [
    {
     "data": {
      "text/plain": "<Axes: ylabel='0'>"
     },
     "execution_count": 14,
     "metadata": {},
     "output_type": "execute_result"
    },
    {
     "data": {
      "text/plain": "<Figure size 640x480 with 1 Axes>",
      "image/png": "[encoded data removed]"
     },
     "metadata": {},
     "output_type": "display_data"
    }
   ],
   "source": [
    "import seaborn as sns\n",
    "\n",
    "sns.lineplot(data=X.iloc[0, :128])\n"
   ],
   "metadata": {
    "collapsed": false,
    "ExecuteTime": {
     "end_time": "2023-11-20T16:00:23.653149315Z",
     "start_time": "2023-11-20T16:00:23.546109854Z"
    }
   },
   "id": "e94369bbdc6f6efb"
  },
  {
   "cell_type": "code",
   "execution_count": 16,
   "outputs": [
    {
     "data": {
      "text/plain": "array([[[ 7.444528e-03,  8.082362e-03,  7.115643e-03, ...,\n          1.361828e-02,  1.313051e-02,  1.098634e-02],\n        [ 1.129898e-02,  1.038845e-02,  7.688675e-03, ...,\n         -5.563611e-04,  5.996594e-03,  7.585662e-03],\n        [ 3.258421e-03,  1.892993e-03,  3.631367e-03, ...,\n          6.870157e-03,  1.019717e-02,  1.379477e-02],\n        ...,\n        [ 3.745792e-01,  3.736133e-01,  3.734996e-01, ...,\n          3.780925e-01,  3.785737e-01,  3.761818e-01],\n        [ 3.772079e-01,  3.795622e-01,  3.791982e-01, ...,\n          3.807958e-01,  3.807741e-01,  3.782379e-01],\n        [ 3.761816e-01,  3.777229e-01,  3.835955e-01, ...,\n          3.766034e-01,  3.743967e-01,  3.781184e-01]],\n\n       [[-3.129910e-01, -3.439550e-01, -3.010926e-01, ...,\n         -6.696151e-02, -1.084866e-01, -8.447845e-02],\n        [-1.060563e-01, -1.659076e-01, -2.743576e-01, ...,\n         -5.626635e-01, -5.646347e-01, -5.184951e-01],\n        [-4.240707e-01, -3.262385e-01, -3.006115e-01, ...,\n         -5.245575e-01, -5.228743e-01, -4.790166e-01],\n        ...,\n        [-8.522490e-01, -7.739523e-01, -7.129919e-01, ...,\n         -5.135161e-01, -4.678204e-01, -4.455832e-01],\n        [-4.148780e-01, -3.951731e-01, -3.469073e-01, ...,\n         -2.657335e-01, -2.681877e-01, -2.701975e-01],\n        [-2.636587e-01, -2.456606e-01, -2.334907e-01, ...,\n         -2.330215e-01, -2.639245e-01, -2.419565e-01]],\n\n       [[-9.381714e-02, -3.758807e-02, -3.363838e-02, ...,\n         -7.662666e-01, -9.465915e-01, -9.858818e-01],\n        [-8.490234e-01, -7.653990e-01, -7.102397e-01, ...,\n         -6.421763e-01, -5.704760e-01, -5.334789e-01],\n        [-5.746048e-01, -5.919535e-01, -5.865323e-01, ...,\n         -2.671865e-01, -2.534849e-01, -2.766145e-01],\n        ...,\n        [-4.368198e-01, -4.216758e-01, -3.844528e-01, ...,\n         -1.295527e-01, -9.725863e-02, -1.106320e-01],\n        [-1.498608e-01, -1.968642e-01, -2.799424e-01, ...,\n         -4.597473e-01, -5.329807e-01, -5.948040e-01],\n        [-6.114785e-01, -6.884998e-01, -7.233724e-01, ...,\n         -4.859288e-01, -4.960395e-01, -4.988946e-01]],\n\n       ...,\n\n       [[ 2.648793e-01,  2.419917e-01,  2.273913e-01, ...,\n         -1.897824e-02, -5.597762e-02, -5.826059e-02],\n        [-4.578592e-02, -5.308624e-03,  5.320465e-02, ...,\n         -1.770211e-01, -6.434187e-02,  9.100219e-02],\n        [ 1.852243e-01,  8.718604e-02, -1.569318e-01, ...,\n         -9.850867e-02, -1.189704e-02, -3.166894e-02],\n        ...,\n        [-4.515790e-02, -3.589592e-02, -3.639078e-03, ...,\n          1.889920e-02,  2.549121e-02,  1.420867e-02],\n        [ 3.710307e-03,  3.379744e-03,  1.403861e-02, ...,\n          7.283222e-02,  4.125659e-02,  4.688207e-03],\n        [-5.839323e-02, -1.639341e-01, -2.104272e-01, ...,\n          7.443890e-02,  5.207238e-02,  3.751868e-02]],\n\n       [[ 3.901865e-03,  4.580310e-03,  4.212452e-03, ...,\n          6.521966e-03, -4.999106e-04,  4.961020e-05],\n        [ 2.452963e-03, -9.045933e-04, -6.926015e-04, ...,\n          6.423095e-03,  2.947170e-03,  1.845551e-03],\n        [-3.521098e-03, -9.926898e-03, -5.472881e-03, ...,\n          1.787817e-03,  6.805990e-04,  5.652139e-04],\n        ...,\n        [ 1.550628e-01,  1.589539e-01,  1.593086e-01, ...,\n          1.479722e-01,  1.534790e-01,  1.525457e-01],\n        [ 1.560096e-01,  1.571501e-01,  1.526959e-01, ...,\n          1.597104e-01,  1.561161e-01,  1.549110e-01],\n        [ 1.554508e-01,  1.594905e-01,  1.668239e-01, ...,\n          1.607770e-01,  1.587483e-01,  1.618095e-01]],\n\n       [[ 6.025820e-01,  5.126421e-01,  3.175629e-01, ...,\n         -5.441824e-01, -8.571389e-01, -1.035813e+00],\n        [-1.106094e+00, -1.082447e+00, -9.483028e-01, ...,\n         -2.912716e-01, -1.239100e-01,  4.994475e-02],\n        [ 1.236845e-01,  2.299124e-01,  3.004901e-01, ...,\n          2.191144e-01,  3.385062e-01,  3.831731e-01],\n        ...,\n        [ 9.827249e-02,  1.052236e-01,  4.677611e-02, ...,\n          7.081167e-02,  6.903799e-02,  1.050180e-02],\n        [-6.887822e-03, -3.965029e-02, -4.377408e-02, ...,\n         -8.253786e-02, -8.918537e-02, -6.632141e-02],\n        [-7.182623e-02, -3.885978e-02, -4.747722e-02, ...,\n         -6.159540e-03, -7.775901e-02, -1.402719e-01]]])"
     },
     "execution_count": 16,
     "metadata": {},
     "output_type": "execute_result"
    }
   ],
   "source": [
    "import numpy as np\n",
    "from sklearn.model_selection import train_test_split\n",
    "\n",
    "X = np.reshape(X, (X.shape[0], 128, 9))\n",
    "\n",
    "n = 0.3\n",
    "random_seed = 42\n",
    "np.random.seed(random_seed)\n",
    "\n",
    "X_train, X_test, y_train, y_test = train_test_split(X, y, test_size=n, random_state=random_seed)\n",
    "X_train"
   ],
   "metadata": {
    "collapsed": false,
    "ExecuteTime": {
     "end_time": "2023-11-20T16:02:05.391003425Z",
     "start_time": "2023-11-20T16:02:05.277721770Z"
    }
   },
   "id": "7ae4af1016ef66b2"
  },
  {
   "cell_type": "code",
   "execution_count": 47,
   "outputs": [],
   "source": [
    "X_heldback = load_data_from_directory(\"./har/UCI HAR Dataset/test/Inertial Signals\")\n",
    "X_heldback = np.reshape(X_heldback, (X_heldback.shape[0], 128, 9))\n",
    "y_heldback = pd.read_csv('./har/UCI HAR Dataset/test/y_test.txt', header=None, names=['label']).apply(lambda x: x - 1)\n",
    "y_heldback = np_utils.to_categorical(y_heldback, num_classes=6)"
   ],
   "metadata": {
    "collapsed": false,
    "ExecuteTime": {
     "end_time": "2023-11-20T16:47:52.121546898Z",
     "start_time": "2023-11-20T16:47:51.078464409Z"
    }
   },
   "id": "857102e48570913d"
  },
  {
   "cell_type": "code",
   "execution_count": 33,
   "outputs": [],
   "source": [
    "from keras.src.layers import Dense, LSTM\n",
    "from keras import Sequential, metrics\n",
    "\n",
    "model = Sequential()\n",
    "model.add(LSTM(50, input_shape=(X_train.shape[1], X_train.shape[2])))\n",
    "model.add(Dense(6))\n",
    "model.compile(optimizer='adam', loss='mae',  metrics=['accuracy'])"
   ],
   "metadata": {
    "collapsed": false,
    "ExecuteTime": {
     "end_time": "2023-11-20T16:18:07.098713184Z",
     "start_time": "2023-11-20T16:18:06.974979637Z"
    }
   },
   "id": "37a614907e077f61"
  },
  {
   "cell_type": "code",
   "execution_count": 34,
   "outputs": [
    {
     "name": "stdout",
     "output_type": "stream",
     "text": [
      "Epoch 1/10\n",
      "161/161 [==============================] - 5s 21ms/step - loss: 0.1608 - accuracy: 0.3002\n",
      "Epoch 2/10\n",
      "161/161 [==============================] - 3s 21ms/step - loss: 0.1532 - accuracy: 0.3410\n",
      "Epoch 3/10\n",
      "161/161 [==============================] - 3s 21ms/step - loss: 0.1493 - accuracy: 0.3840\n",
      "Epoch 4/10\n",
      "161/161 [==============================] - 3s 21ms/step - loss: 0.1456 - accuracy: 0.4458\n",
      "Epoch 5/10\n",
      "161/161 [==============================] - 3s 21ms/step - loss: 0.1321 - accuracy: 0.4613\n",
      "Epoch 6/10\n",
      "161/161 [==============================] - 3s 21ms/step - loss: 0.1256 - accuracy: 0.5152\n",
      "Epoch 7/10\n",
      "161/161 [==============================] - 3s 21ms/step - loss: 0.1265 - accuracy: 0.4961\n",
      "Epoch 8/10\n",
      "161/161 [==============================] - 3s 21ms/step - loss: 0.1218 - accuracy: 0.5402\n",
      "Epoch 9/10\n",
      "161/161 [==============================] - 3s 22ms/step - loss: 0.1202 - accuracy: 0.5655\n",
      "Epoch 10/10\n",
      "161/161 [==============================] - 3s 22ms/step - loss: 0.1204 - accuracy: 0.5801\n"
     ]
    },
    {
     "data": {
      "text/plain": "<keras.src.callbacks.History at 0x7fa179d91cf0>"
     },
     "execution_count": 34,
     "metadata": {},
     "output_type": "execute_result"
    }
   ],
   "source": [
    "model.fit(X_train, y_train, epochs=10)"
   ],
   "metadata": {
    "collapsed": false,
    "ExecuteTime": {
     "end_time": "2023-11-20T16:18:43.328074575Z",
     "start_time": "2023-11-20T16:18:07.836416753Z"
    }
   },
   "id": "fe65c4bcfaa85d5f"
  },
  {
   "cell_type": "code",
   "execution_count": 35,
   "outputs": [
    {
     "name": "stdout",
     "output_type": "stream",
     "text": [
      "69/69 [==============================] - 1s 7ms/step - loss: 0.1186 - accuracy: 0.5598\n"
     ]
    },
    {
     "data": {
      "text/plain": "[0.11860194802284241, 0.5598368048667908]"
     },
     "execution_count": 35,
     "metadata": {},
     "output_type": "execute_result"
    }
   ],
   "source": [
    "model.evaluate(X_test, y_test)"
   ],
   "metadata": {
    "collapsed": false,
    "ExecuteTime": {
     "end_time": "2023-11-20T16:19:26.086138497Z",
     "start_time": "2023-11-20T16:19:25.380820004Z"
    }
   },
   "id": "3f675c682d93c26f"
  },
  {
   "cell_type": "markdown",
   "source": [
    "## Timeseries Classification Transformer\n",
    "See https://keras.io/examples/timeseries/timeseries_classification_transformer/"
   ],
   "metadata": {
    "collapsed": false
   },
   "id": "156eaa1bd3dd2564"
  },
  {
   "cell_type": "code",
   "execution_count": 40,
   "outputs": [
    {
     "name": "stdout",
     "output_type": "stream",
     "text": [
      "Model: \"model_2\"\n",
      "__________________________________________________________________________________________________\n",
      " Layer (type)                Output Shape                 Param #   Connected to                  \n",
      "==================================================================================================\n",
      " input_3 (InputLayer)        [(None, 128, 9)]             0         []                            \n",
      "                                                                                                  \n",
      " multi_head_attention_8 (Mu  (None, 128, 9)               39945     ['input_3[0][0]',             \n",
      " ltiHeadAttention)                                                   'input_3[0][0]']             \n",
      "                                                                                                  \n",
      " dropout_18 (Dropout)        (None, 128, 9)               0         ['multi_head_attention_8[0][0]\n",
      "                                                                    ']                            \n",
      "                                                                                                  \n",
      " layer_normalization_16 (La  (None, 128, 9)               18        ['dropout_18[0][0]']          \n",
      " yerNormalization)                                                                                \n",
      "                                                                                                  \n",
      " tf.__operators__.add_16 (T  (None, 128, 9)               0         ['layer_normalization_16[0][0]\n",
      " FOpLambda)                                                         ',                            \n",
      "                                                                     'input_3[0][0]']             \n",
      "                                                                                                  \n",
      " conv1d_16 (Conv1D)          (None, 128, 4)               40        ['tf.__operators__.add_16[0][0\n",
      "                                                                    ]']                           \n",
      "                                                                                                  \n",
      " dropout_19 (Dropout)        (None, 128, 4)               0         ['conv1d_16[0][0]']           \n",
      "                                                                                                  \n",
      " conv1d_17 (Conv1D)          (None, 128, 9)               45        ['dropout_19[0][0]']          \n",
      "                                                                                                  \n",
      " layer_normalization_17 (La  (None, 128, 9)               18        ['conv1d_17[0][0]']           \n",
      " yerNormalization)                                                                                \n",
      "                                                                                                  \n",
      " tf.__operators__.add_17 (T  (None, 128, 9)               0         ['layer_normalization_17[0][0]\n",
      " FOpLambda)                                                         ',                            \n",
      "                                                                     'tf.__operators__.add_16[0][0\n",
      "                                                                    ]']                           \n",
      "                                                                                                  \n",
      " multi_head_attention_9 (Mu  (None, 128, 9)               39945     ['tf.__operators__.add_17[0][0\n",
      " ltiHeadAttention)                                                  ]',                           \n",
      "                                                                     'tf.__operators__.add_17[0][0\n",
      "                                                                    ]']                           \n",
      "                                                                                                  \n",
      " dropout_20 (Dropout)        (None, 128, 9)               0         ['multi_head_attention_9[0][0]\n",
      "                                                                    ']                            \n",
      "                                                                                                  \n",
      " layer_normalization_18 (La  (None, 128, 9)               18        ['dropout_20[0][0]']          \n",
      " yerNormalization)                                                                                \n",
      "                                                                                                  \n",
      " tf.__operators__.add_18 (T  (None, 128, 9)               0         ['layer_normalization_18[0][0]\n",
      " FOpLambda)                                                         ',                            \n",
      "                                                                     'tf.__operators__.add_17[0][0\n",
      "                                                                    ]']                           \n",
      "                                                                                                  \n",
      " conv1d_18 (Conv1D)          (None, 128, 4)               40        ['tf.__operators__.add_18[0][0\n",
      "                                                                    ]']                           \n",
      "                                                                                                  \n",
      " dropout_21 (Dropout)        (None, 128, 4)               0         ['conv1d_18[0][0]']           \n",
      "                                                                                                  \n",
      " conv1d_19 (Conv1D)          (None, 128, 9)               45        ['dropout_21[0][0]']          \n",
      "                                                                                                  \n",
      " layer_normalization_19 (La  (None, 128, 9)               18        ['conv1d_19[0][0]']           \n",
      " yerNormalization)                                                                                \n",
      "                                                                                                  \n",
      " tf.__operators__.add_19 (T  (None, 128, 9)               0         ['layer_normalization_19[0][0]\n",
      " FOpLambda)                                                         ',                            \n",
      "                                                                     'tf.__operators__.add_18[0][0\n",
      "                                                                    ]']                           \n",
      "                                                                                                  \n",
      " multi_head_attention_10 (M  (None, 128, 9)               39945     ['tf.__operators__.add_19[0][0\n",
      " ultiHeadAttention)                                                 ]',                           \n",
      "                                                                     'tf.__operators__.add_19[0][0\n",
      "                                                                    ]']                           \n",
      "                                                                                                  \n",
      " dropout_22 (Dropout)        (None, 128, 9)               0         ['multi_head_attention_10[0][0\n",
      "                                                                    ]']                           \n",
      "                                                                                                  \n",
      " layer_normalization_20 (La  (None, 128, 9)               18        ['dropout_22[0][0]']          \n",
      " yerNormalization)                                                                                \n",
      "                                                                                                  \n",
      " tf.__operators__.add_20 (T  (None, 128, 9)               0         ['layer_normalization_20[0][0]\n",
      " FOpLambda)                                                         ',                            \n",
      "                                                                     'tf.__operators__.add_19[0][0\n",
      "                                                                    ]']                           \n",
      "                                                                                                  \n",
      " conv1d_20 (Conv1D)          (None, 128, 4)               40        ['tf.__operators__.add_20[0][0\n",
      "                                                                    ]']                           \n",
      "                                                                                                  \n",
      " dropout_23 (Dropout)        (None, 128, 4)               0         ['conv1d_20[0][0]']           \n",
      "                                                                                                  \n",
      " conv1d_21 (Conv1D)          (None, 128, 9)               45        ['dropout_23[0][0]']          \n",
      "                                                                                                  \n",
      " layer_normalization_21 (La  (None, 128, 9)               18        ['conv1d_21[0][0]']           \n",
      " yerNormalization)                                                                                \n",
      "                                                                                                  \n",
      " tf.__operators__.add_21 (T  (None, 128, 9)               0         ['layer_normalization_21[0][0]\n",
      " FOpLambda)                                                         ',                            \n",
      "                                                                     'tf.__operators__.add_20[0][0\n",
      "                                                                    ]']                           \n",
      "                                                                                                  \n",
      " multi_head_attention_11 (M  (None, 128, 9)               39945     ['tf.__operators__.add_21[0][0\n",
      " ultiHeadAttention)                                                 ]',                           \n",
      "                                                                     'tf.__operators__.add_21[0][0\n",
      "                                                                    ]']                           \n",
      "                                                                                                  \n",
      " dropout_24 (Dropout)        (None, 128, 9)               0         ['multi_head_attention_11[0][0\n",
      "                                                                    ]']                           \n",
      "                                                                                                  \n",
      " layer_normalization_22 (La  (None, 128, 9)               18        ['dropout_24[0][0]']          \n",
      " yerNormalization)                                                                                \n",
      "                                                                                                  \n",
      " tf.__operators__.add_22 (T  (None, 128, 9)               0         ['layer_normalization_22[0][0]\n",
      " FOpLambda)                                                         ',                            \n",
      "                                                                     'tf.__operators__.add_21[0][0\n",
      "                                                                    ]']                           \n",
      "                                                                                                  \n",
      " conv1d_22 (Conv1D)          (None, 128, 4)               40        ['tf.__operators__.add_22[0][0\n",
      "                                                                    ]']                           \n",
      "                                                                                                  \n",
      " dropout_25 (Dropout)        (None, 128, 4)               0         ['conv1d_22[0][0]']           \n",
      "                                                                                                  \n",
      " conv1d_23 (Conv1D)          (None, 128, 9)               45        ['dropout_25[0][0]']          \n",
      "                                                                                                  \n",
      " layer_normalization_23 (La  (None, 128, 9)               18        ['conv1d_23[0][0]']           \n",
      " yerNormalization)                                                                                \n",
      "                                                                                                  \n",
      " tf.__operators__.add_23 (T  (None, 128, 9)               0         ['layer_normalization_23[0][0]\n",
      " FOpLambda)                                                         ',                            \n",
      "                                                                     'tf.__operators__.add_22[0][0\n",
      "                                                                    ]']                           \n",
      "                                                                                                  \n",
      " global_average_pooling1d_2  (None, 128)                  0         ['tf.__operators__.add_23[0][0\n",
      "  (GlobalAveragePooling1D)                                          ]']                           \n",
      "                                                                                                  \n",
      " dense_9 (Dense)             (None, 128)                  16512     ['global_average_pooling1d_2[0\n",
      "                                                                    ][0]']                        \n",
      "                                                                                                  \n",
      " dropout_26 (Dropout)        (None, 128)                  0         ['dense_9[0][0]']             \n",
      "                                                                                                  \n",
      " dense_10 (Dense)            (None, 6)                    774       ['dropout_26[0][0]']          \n",
      "                                                                                                  \n",
      "==================================================================================================\n",
      "Total params: 177550 (693.55 KB)\n",
      "Trainable params: 177550 (693.55 KB)\n",
      "Non-trainable params: 0 (0.00 Byte)\n",
      "__________________________________________________________________________________________________\n"
     ]
    }
   ],
   "source": [
    "from keras.src.optimizers import Adam\n",
    "import keras\n",
    "from keras import Input, Model\n",
    "from keras.src.layers import MultiHeadAttention, Dropout, LayerNormalization, Conv1D, GlobalAveragePooling1D\n",
    "\n",
    "\n",
    "def transformer_encoder(inputs, head_size, num_heads, ff_dim, dropout=0):\n",
    "    # Attention and Normalization\n",
    "    x = MultiHeadAttention(\n",
    "        key_dim=head_size, num_heads=num_heads, dropout=dropout\n",
    "    )(inputs, inputs)\n",
    "    x = Dropout(dropout)(x)\n",
    "    x = LayerNormalization(epsilon=1e-6)(x)\n",
    "    res = x + inputs\n",
    "\n",
    "    # Feed Forward Part\n",
    "    x = Conv1D(filters=ff_dim, kernel_size=1, activation=\"relu\")(res)\n",
    "    x = Dropout(dropout)(x)\n",
    "    x = Conv1D(filters=inputs.shape[-1], kernel_size=1)(x)\n",
    "    x = LayerNormalization(epsilon=1e-6)(x)\n",
    "    return x + res\n",
    "\n",
    "def build_model(\n",
    "    input_shape,\n",
    "    head_size,\n",
    "    num_heads,\n",
    "    ff_dim,\n",
    "    num_transformer_blocks,\n",
    "    mlp_units,\n",
    "    dropout=0,\n",
    "    mlp_dropout=0,\n",
    "):\n",
    "    inputs = Input(shape=input_shape)\n",
    "    x = inputs\n",
    "    for _ in range(num_transformer_blocks):\n",
    "        x = transformer_encoder(x, head_size, num_heads, ff_dim, dropout)\n",
    "\n",
    "    x = GlobalAveragePooling1D(data_format=\"channels_first\")(x)\n",
    "    for dim in mlp_units:\n",
    "        x = Dense(dim, activation=\"relu\")(x)\n",
    "        x = Dropout(mlp_dropout)(x)\n",
    "    outputs = Dense(6, activation=\"softmax\")(x)\n",
    "    return Model(inputs, outputs)\n",
    "\n",
    "input_shape = X_train.shape[1:]\n",
    "model = build_model(\n",
    "    input_shape,\n",
    "    head_size=256,\n",
    "    num_heads=4,\n",
    "    ff_dim=4,\n",
    "    num_transformer_blocks=4,\n",
    "    mlp_units=[128],\n",
    "    mlp_dropout=0.4,\n",
    "    dropout=0.25,\n",
    ")\n",
    "\n",
    "model.compile(\n",
    "    loss=\"categorical_crossentropy\",\n",
    "    optimizer=Adam(learning_rate=1e-4),\n",
    "    metrics=[\"categorical_accuracy\"],\n",
    ")\n",
    "model.summary()\n"
   ],
   "metadata": {
    "collapsed": false,
    "ExecuteTime": {
     "end_time": "2023-11-20T16:29:22.380368367Z",
     "start_time": "2023-11-20T16:29:22.061656955Z"
    }
   },
   "id": "5f2b745e958eb188"
  },
  {
   "cell_type": "code",
   "execution_count": 41,
   "outputs": [
    {
     "name": "stdout",
     "output_type": "stream",
     "text": [
      "Epoch 1/20\n",
      "65/65 [==============================] - 42s 607ms/step - loss: 1.7701 - categorical_accuracy: 0.2920 - val_loss: 1.6115 - val_categorical_accuracy: 0.4495\n",
      "Epoch 2/20\n",
      "65/65 [==============================] - 40s 616ms/step - loss: 1.5658 - categorical_accuracy: 0.4123 - val_loss: 1.4427 - val_categorical_accuracy: 0.5359\n",
      "Epoch 3/20\n",
      "65/65 [==============================] - 44s 676ms/step - loss: 1.4277 - categorical_accuracy: 0.4451 - val_loss: 1.3203 - val_categorical_accuracy: 0.5631\n",
      "Epoch 4/20\n",
      "65/65 [==============================] - 43s 660ms/step - loss: 1.3302 - categorical_accuracy: 0.4740 - val_loss: 1.2322 - val_categorical_accuracy: 0.5874\n",
      "Epoch 5/20\n",
      "65/65 [==============================] - 43s 656ms/step - loss: 1.2545 - categorical_accuracy: 0.5070 - val_loss: 1.1717 - val_categorical_accuracy: 0.6117\n",
      "Epoch 6/20\n",
      "65/65 [==============================] - 42s 642ms/step - loss: 1.1939 - categorical_accuracy: 0.5296 - val_loss: 1.1169 - val_categorical_accuracy: 0.6068\n",
      "Epoch 7/20\n",
      "65/65 [==============================] - 42s 648ms/step - loss: 1.1537 - categorical_accuracy: 0.5437 - val_loss: 1.0818 - val_categorical_accuracy: 0.6184\n",
      "Epoch 8/20\n",
      "65/65 [==============================] - 41s 634ms/step - loss: 1.1021 - categorical_accuracy: 0.5690 - val_loss: 1.0475 - val_categorical_accuracy: 0.6379\n",
      "Epoch 9/20\n",
      "65/65 [==============================] - 45s 693ms/step - loss: 1.0843 - categorical_accuracy: 0.5809 - val_loss: 1.0240 - val_categorical_accuracy: 0.6456\n",
      "Epoch 10/20\n",
      "65/65 [==============================] - 41s 629ms/step - loss: 1.0579 - categorical_accuracy: 0.5935 - val_loss: 0.9976 - val_categorical_accuracy: 0.6592\n",
      "Epoch 11/20\n",
      "65/65 [==============================] - 41s 627ms/step - loss: 1.0342 - categorical_accuracy: 0.6028 - val_loss: 0.9770 - val_categorical_accuracy: 0.6660\n",
      "Epoch 12/20\n",
      "65/65 [==============================] - 41s 627ms/step - loss: 1.0169 - categorical_accuracy: 0.6062 - val_loss: 0.9489 - val_categorical_accuracy: 0.6874\n",
      "Epoch 13/20\n",
      "65/65 [==============================] - 41s 631ms/step - loss: 0.9945 - categorical_accuracy: 0.6215 - val_loss: 0.9254 - val_categorical_accuracy: 0.6932\n",
      "Epoch 14/20\n",
      "65/65 [==============================] - 42s 639ms/step - loss: 0.9652 - categorical_accuracy: 0.6353 - val_loss: 0.9083 - val_categorical_accuracy: 0.7058\n",
      "Epoch 15/20\n",
      "65/65 [==============================] - 41s 631ms/step - loss: 0.9455 - categorical_accuracy: 0.6443 - val_loss: 0.8702 - val_categorical_accuracy: 0.7146\n",
      "Epoch 16/20\n",
      "65/65 [==============================] - 41s 632ms/step - loss: 0.9248 - categorical_accuracy: 0.6521 - val_loss: 0.8427 - val_categorical_accuracy: 0.7369\n",
      "Epoch 17/20\n",
      "65/65 [==============================] - 41s 636ms/step - loss: 0.8849 - categorical_accuracy: 0.6800 - val_loss: 0.8324 - val_categorical_accuracy: 0.7214\n",
      "Epoch 18/20\n",
      "65/65 [==============================] - 44s 678ms/step - loss: 0.8677 - categorical_accuracy: 0.6810 - val_loss: 0.7867 - val_categorical_accuracy: 0.7495\n",
      "Epoch 19/20\n",
      "65/65 [==============================] - 46s 702ms/step - loss: 0.8337 - categorical_accuracy: 0.6983 - val_loss: 0.7549 - val_categorical_accuracy: 0.7544\n",
      "Epoch 20/20\n",
      "65/65 [==============================] - 47s 725ms/step - loss: 0.7923 - categorical_accuracy: 0.7143 - val_loss: 0.7741 - val_categorical_accuracy: 0.7932\n"
     ]
    },
    {
     "data": {
      "text/plain": "<keras.src.callbacks.History at 0x7fa164bbd5a0>"
     },
     "execution_count": 41,
     "metadata": {},
     "output_type": "execute_result"
    }
   ],
   "source": [
    "callbacks = [keras.callbacks.EarlyStopping(patience=10, restore_best_weights=True)]\n",
    "model.fit(\n",
    "    X_train,\n",
    "    y_train,\n",
    "    validation_split=0.3,\n",
    "    epochs=50,\n",
    "    batch_size=10,\n",
    "    callbacks=callbacks,\n",
    ")"
   ],
   "metadata": {
    "collapsed": false,
    "ExecuteTime": {
     "end_time": "2023-11-20T16:43:29.055827980Z",
     "start_time": "2023-11-20T16:29:23.196216080Z"
    }
   },
   "id": "d6cc6e4808cdf866"
  },
  {
   "cell_type": "code",
   "execution_count": 48,
   "outputs": [
    {
     "name": "stdout",
     "output_type": "stream",
     "text": [
      "93/93 [==============================] - 11s 123ms/step - loss: 5.0671 - categorical_accuracy: 0.1469\n"
     ]
    },
    {
     "data": {
      "text/plain": "[5.067129135131836, 0.1469290852546692]"
     },
     "execution_count": 48,
     "metadata": {},
     "output_type": "execute_result"
    }
   ],
   "source": [
    "model.evaluate(X_heldback, y_heldback)"
   ],
   "metadata": {
    "collapsed": false,
    "ExecuteTime": {
     "end_time": "2023-11-20T16:48:08.516380117Z",
     "start_time": "2023-11-20T16:47:56.954587684Z"
    }
   },
   "id": "fca8c9ac0f4a3299"
  },
  {
   "cell_type": "code",
   "execution_count": null,
   "outputs": [],
   "source": [],
   "metadata": {
    "collapsed": false
   },
   "id": "ace9a49ad189e9f2"
  }
 ],
 "metadata": {
  "kernelspec": {
   "display_name": "Python 3",
   "language": "python",
   "name": "python3"
  },
  "language_info": {
   "codemirror_mode": {
    "name": "ipython",
    "version": 2
   },
   "file_extension": ".py",
   "mimetype": "text/x-python",
   "name": "python",
   "nbconvert_exporter": "python",
   "pygments_lexer": "ipython2",
   "version": "2.7.6"
  }
 },
 "nbformat": 4,
 "nbformat_minor": 5
}
