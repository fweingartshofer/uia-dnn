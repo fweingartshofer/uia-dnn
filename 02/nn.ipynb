{
 "cells": [
  {
   "cell_type": "markdown",
   "source": [
    "# Neural Networks\n",
    "\n",
    "In this task you are suppose to implement 2 types of mulilayer Perceptrons: \n",
    "\n",
    "1. Using only Python. \n",
    "2. Using a high level library\n",
    "\n",
    "Download the Ecoli dataset: https://archive.ics.uci.edu/ml/datasets/Ecoli\n",
    "* Predict the two classes: cp and im (remove the rest of the dataset).\n",
    "* Make the necessary adjustments to the data.\n",
    "* Implement and test a Multilayer Perceptron from scratch using only Python and standard libraries (do not train this).\n",
    "* Implement, train and test a Multilayer Perceptron using a high level library (e.g., Torch, Keras, TensorFlow).\n",
    "* Choose the network architecture with care.\n",
    "* Train and validate all algorithms.\n",
    "* Make the necessary assumptions."
   ],
   "metadata": {
    "collapsed": false
   },
   "id": "1350cac048a90b27"
  },
  {
   "cell_type": "markdown",
   "source": [
    "# Load the data"
   ],
   "metadata": {
    "collapsed": false
   },
   "id": "fb933a2f39695394"
  },
  {
   "cell_type": "code",
   "execution_count": 59,
   "outputs": [
    {
     "data": {
      "text/plain": "        1     2     3    4     5     6     7   8\n0    0.49  0.29  0.48  0.5  0.56  0.24  0.35  cp\n1    0.07  0.40  0.48  0.5  0.54  0.35  0.44  cp\n2    0.56  0.40  0.48  0.5  0.49  0.37  0.46  cp\n3    0.59  0.49  0.48  0.5  0.52  0.45  0.36  cp\n4    0.23  0.32  0.48  0.5  0.55  0.25  0.35  cp\n..    ...   ...   ...  ...   ...   ...   ...  ..\n215  0.10  0.49  0.48  0.5  0.41  0.67  0.21  im\n216  0.30  0.51  0.48  0.5  0.42  0.61  0.34  im\n217  0.61  0.47  0.48  0.5  0.00  0.80  0.32  im\n218  0.63  0.75  0.48  0.5  0.64  0.73  0.66  im\n219  0.71  0.52  0.48  0.5  0.64  1.00  0.99  im\n\n[220 rows x 8 columns]",
      "text/html": "<div>\n<style scoped>\n    .dataframe tbody tr th:only-of-type {\n        vertical-align: middle;\n    }\n\n    .dataframe tbody tr th {\n        vertical-align: top;\n    }\n\n    .dataframe thead th {\n        text-align: right;\n    }\n</style>\n<table border=\"1\" class=\"dataframe\">\n  <thead>\n    <tr style=\"text-align: right;\">\n      <th></th>\n      <th>1</th>\n      <th>2</th>\n      <th>3</th>\n      <th>4</th>\n      <th>5</th>\n      <th>6</th>\n      <th>7</th>\n      <th>8</th>\n    </tr>\n  </thead>\n  <tbody>\n    <tr>\n      <th>0</th>\n      <td>0.49</td>\n      <td>0.29</td>\n      <td>0.48</td>\n      <td>0.5</td>\n      <td>0.56</td>\n      <td>0.24</td>\n      <td>0.35</td>\n      <td>cp</td>\n    </tr>\n    <tr>\n      <th>1</th>\n      <td>0.07</td>\n      <td>0.40</td>\n      <td>0.48</td>\n      <td>0.5</td>\n      <td>0.54</td>\n      <td>0.35</td>\n      <td>0.44</td>\n      <td>cp</td>\n    </tr>\n    <tr>\n      <th>2</th>\n      <td>0.56</td>\n      <td>0.40</td>\n      <td>0.48</td>\n      <td>0.5</td>\n      <td>0.49</td>\n      <td>0.37</td>\n      <td>0.46</td>\n      <td>cp</td>\n    </tr>\n    <tr>\n      <th>3</th>\n      <td>0.59</td>\n      <td>0.49</td>\n      <td>0.48</td>\n      <td>0.5</td>\n      <td>0.52</td>\n      <td>0.45</td>\n      <td>0.36</td>\n      <td>cp</td>\n    </tr>\n    <tr>\n      <th>4</th>\n      <td>0.23</td>\n      <td>0.32</td>\n      <td>0.48</td>\n      <td>0.5</td>\n      <td>0.55</td>\n      <td>0.25</td>\n      <td>0.35</td>\n      <td>cp</td>\n    </tr>\n    <tr>\n      <th>...</th>\n      <td>...</td>\n      <td>...</td>\n      <td>...</td>\n      <td>...</td>\n      <td>...</td>\n      <td>...</td>\n      <td>...</td>\n      <td>...</td>\n    </tr>\n    <tr>\n      <th>215</th>\n      <td>0.10</td>\n      <td>0.49</td>\n      <td>0.48</td>\n      <td>0.5</td>\n      <td>0.41</td>\n      <td>0.67</td>\n      <td>0.21</td>\n      <td>im</td>\n    </tr>\n    <tr>\n      <th>216</th>\n      <td>0.30</td>\n      <td>0.51</td>\n      <td>0.48</td>\n      <td>0.5</td>\n      <td>0.42</td>\n      <td>0.61</td>\n      <td>0.34</td>\n      <td>im</td>\n    </tr>\n    <tr>\n      <th>217</th>\n      <td>0.61</td>\n      <td>0.47</td>\n      <td>0.48</td>\n      <td>0.5</td>\n      <td>0.00</td>\n      <td>0.80</td>\n      <td>0.32</td>\n      <td>im</td>\n    </tr>\n    <tr>\n      <th>218</th>\n      <td>0.63</td>\n      <td>0.75</td>\n      <td>0.48</td>\n      <td>0.5</td>\n      <td>0.64</td>\n      <td>0.73</td>\n      <td>0.66</td>\n      <td>im</td>\n    </tr>\n    <tr>\n      <th>219</th>\n      <td>0.71</td>\n      <td>0.52</td>\n      <td>0.48</td>\n      <td>0.5</td>\n      <td>0.64</td>\n      <td>1.00</td>\n      <td>0.99</td>\n      <td>im</td>\n    </tr>\n  </tbody>\n</table>\n<p>220 rows × 8 columns</p>\n</div>"
     },
     "execution_count": 59,
     "metadata": {},
     "output_type": "execute_result"
    }
   ],
   "source": [
    "import pandas as pd\n",
    "\n",
    "df = pd.read_csv('ecoli/ecoli.data', header=None, delim_whitespace=True)\n",
    "\n",
    "# Remove all rows not containing everything except cp and im and drop the non-numeric columns but keep label\n",
    "df = df[df[8].isin(['cp', 'im'])].drop([0], axis=1)\n",
    "df"
   ],
   "metadata": {
    "collapsed": false,
    "ExecuteTime": {
     "end_time": "2023-11-06T14:05:07.204458212Z",
     "start_time": "2023-11-06T14:05:07.187305544Z"
    }
   },
   "id": "d2aa7047176b8b14"
  },
  {
   "cell_type": "markdown",
   "source": [
    "# Shuffle the data and split into training and test data"
   ],
   "metadata": {
    "collapsed": false
   },
   "id": "189375af9f1700b8"
  },
  {
   "cell_type": "code",
   "execution_count": 60,
   "outputs": [],
   "source": [
    "# Shuffle the data\n",
    "df = df.sample(frac=1).reset_index(drop=True)\n",
    "y = df.iloc[:, -1]\n",
    "X = df.iloc[:, :-1]\n",
    "\n",
    "# Split the data into training and test data 80/20\n",
    "X_train = X.iloc[:int(len(X) * 0.8)]\n",
    "X_test = X.iloc[int(len(X) * 0.8):]\n",
    "y_train = y.iloc[:int(len(y) * 0.8)]\n",
    "y_test = y.iloc[int(len(y) * 0.8):]"
   ],
   "metadata": {
    "collapsed": false,
    "ExecuteTime": {
     "end_time": "2023-11-06T14:05:07.317748794Z",
     "start_time": "2023-11-06T14:05:07.239383460Z"
    }
   },
   "id": "5fa1b69e9c43b2b0"
  },
  {
   "cell_type": "markdown",
   "source": [],
   "metadata": {
    "collapsed": false
   },
   "id": "57d7532d56224328"
  },
  {
   "cell_type": "markdown",
   "source": [
    "# Implement and test a Multilayer Perceptron from scratch using only Python and standard libraries (do not train this)."
   ],
   "metadata": {
    "collapsed": false
   },
   "id": "f81721306856e3db"
  },
  {
   "cell_type": "code",
   "execution_count": 61,
   "outputs": [
    {
     "data": {
      "text/plain": "    Expected Predicted\n0         cp        cp\n1         cp        cp\n2         cp        cp\n3         cp        cp\n4         cp        cp\n..       ...       ...\n215       cp        cp\n216       cp        cp\n217       im        cp\n218       cp        cp\n219       cp        cp\n\n[220 rows x 2 columns]",
      "text/html": "<div>\n<style scoped>\n    .dataframe tbody tr th:only-of-type {\n        vertical-align: middle;\n    }\n\n    .dataframe tbody tr th {\n        vertical-align: top;\n    }\n\n    .dataframe thead th {\n        text-align: right;\n    }\n</style>\n<table border=\"1\" class=\"dataframe\">\n  <thead>\n    <tr style=\"text-align: right;\">\n      <th></th>\n      <th>Expected</th>\n      <th>Predicted</th>\n    </tr>\n  </thead>\n  <tbody>\n    <tr>\n      <th>0</th>\n      <td>cp</td>\n      <td>cp</td>\n    </tr>\n    <tr>\n      <th>1</th>\n      <td>cp</td>\n      <td>cp</td>\n    </tr>\n    <tr>\n      <th>2</th>\n      <td>cp</td>\n      <td>cp</td>\n    </tr>\n    <tr>\n      <th>3</th>\n      <td>cp</td>\n      <td>cp</td>\n    </tr>\n    <tr>\n      <th>4</th>\n      <td>cp</td>\n      <td>cp</td>\n    </tr>\n    <tr>\n      <th>...</th>\n      <td>...</td>\n      <td>...</td>\n    </tr>\n    <tr>\n      <th>215</th>\n      <td>cp</td>\n      <td>cp</td>\n    </tr>\n    <tr>\n      <th>216</th>\n      <td>cp</td>\n      <td>cp</td>\n    </tr>\n    <tr>\n      <th>217</th>\n      <td>im</td>\n      <td>cp</td>\n    </tr>\n    <tr>\n      <th>218</th>\n      <td>cp</td>\n      <td>cp</td>\n    </tr>\n    <tr>\n      <th>219</th>\n      <td>cp</td>\n      <td>cp</td>\n    </tr>\n  </tbody>\n</table>\n<p>220 rows × 2 columns</p>\n</div>"
     },
     "execution_count": 61,
     "metadata": {},
     "output_type": "execute_result"
    }
   ],
   "source": [
    "import numpy as np\n",
    "from sklearn.preprocessing import LabelEncoder\n",
    "from sklearn.metrics import accuracy_score, precision_score\n",
    "\n",
    "\n",
    "class MLP:\n",
    "    def __init__(self, input_size, hidden_size, output_size):\n",
    "        # Initialize weights and biases\n",
    "        self.input_size = input_size\n",
    "        self.hidden_size = hidden_size\n",
    "        self.output_size = output_size\n",
    "        self.weights_input_hidden = np.random.randn(input_size, hidden_size)\n",
    "        self.weights_hidden_output = np.random.randn(hidden_size, output_size)\n",
    "        self.bias_hidden = np.zeros((1, hidden_size))\n",
    "        self.bias_output = np.zeros((1, output_size))\n",
    "\n",
    "    def set_weights_input_hidden(self, weights):\n",
    "        if weights.shape == (self.input_size, self.hidden_size):\n",
    "            self.weights_input_hidden = weights\n",
    "        else:\n",
    "            raise ValueError(f'Weights must be of shape ({self.input_size}, {self.hidden_size})')\n",
    "\n",
    "    def set_weights_hidden_output(self, weights):\n",
    "        if weights.shape == (self.hidden_size, self.output_size):\n",
    "            self.weights_hidden_output = weights\n",
    "        else:\n",
    "            raise ValueError(f'Weights must be of shape ({self.hidden_size}, {self.output_size})')\n",
    "\n",
    "    def forward(self, inputs):\n",
    "        # Compute the input to the hidden layer\n",
    "        self.hidden_input = np.dot(inputs, self.weights_input_hidden) + self.bias_hidden\n",
    "        # Apply the sigmoid activation function\n",
    "        self.hidden_output = self._sigmoid(self.hidden_input)\n",
    "        # Compute the input to the output layer\n",
    "        self.final_input = np.dot(self.hidden_output, self.weights_hidden_output) + self.bias_output\n",
    "        # Apply the sigmoid activation function\n",
    "        self.final_output = self._sigmoid(self.final_input)\n",
    "        return self.final_output\n",
    "\n",
    "    def predict(self, inputs):\n",
    "        # Perform a forward pass and threshold the output\n",
    "        predictions = self.forward(inputs) > 0.5\n",
    "        return predictions.astype(int)\n",
    "\n",
    "    @staticmethod\n",
    "    def _sigmoid(x):\n",
    "        # Sigmoid activation function\n",
    "        return 1 / (1 + np.exp(-x))\n",
    "\n",
    "\n",
    "# Initialize MLP\n",
    "input_size = 7  # Number of features in the dataset\n",
    "hidden_size = 5  # You can choose another size for the hidden layer\n",
    "output_size = 1  # Binary classification, one output neuron is enough\n",
    "\n",
    "mlp = MLP(input_size, hidden_size, output_size)\n",
    "weights_i_h = np.array([[-1.03901234, 1.34852808, -1.59770746, -0.98452313, 1.80660242],\n",
    "               [0.57697243, -1.01469221, -1.0597239, -0.3189779, -1.61257962],\n",
    "               [0.71232018, 1.35518689, 1.09432925, -0.39497866, 0.81997304],\n",
    "               [-1.18617227, -1.98978287, -0.5950365, -0.34994781, -0.45480538],\n",
    "               [-0.74376669, -1.65325417, 0.24469606, -1.49469729, -0.42877386],\n",
    "               [0.79975916, 1.30670578, -0.26306507, -0.11331429, 1.03342756],\n",
    "               [-0.50877096, 1.19815737, -0.34944548, 1.07487525, -1.67910252]])\n",
    "weights_h_o = np.array([[0.64319517],\n",
    "               [0.60016733],\n",
    "               [-0.80560469],\n",
    "               [-0.25233522],\n",
    "               [-1.33179876]])\n",
    "\n",
    "# Set the weights\n",
    "mlp.set_weights_input_hidden(weights_i_h)\n",
    "mlp.set_weights_hidden_output(weights_h_o)\n",
    "\n",
    "# Encode the labels to 0 ('cp') and 1 ('im')\n",
    "label_encoder = LabelEncoder()\n",
    "y_encoded = label_encoder.fit_transform(y)\n",
    "\n",
    "# Predict the test set\n",
    "y_pred_probs = mlp.predict(X.values)  # Get probabilities\n",
    "y_pred = (y_pred_probs > 0.5).astype(int).flatten()  # Apply threshold and flatten\n",
    "\n",
    "# Decode the predicted classes to original labels\n",
    "y_pred_labels = label_encoder.inverse_transform(y_pred)\n",
    "\n",
    "pred_df = pd.DataFrame({'Expected': y, 'Predicted': y_pred_labels})\n",
    "\n",
    "pred_df\n"
   ],
   "metadata": {
    "collapsed": false,
    "ExecuteTime": {
     "end_time": "2023-11-06T14:05:07.318886857Z",
     "start_time": "2023-11-06T14:05:07.239552895Z"
    }
   },
   "id": "7319877f76cdbfec"
  },
  {
   "cell_type": "code",
   "execution_count": 62,
   "outputs": [
    {
     "name": "stdout",
     "output_type": "stream",
     "text": [
      "Confusion matrix:\n",
      "[[143   0]\n",
      " [ 69   8]]\n"
     ]
    }
   ],
   "source": [
    "from sklearn.metrics import classification_report, confusion_matrix\n",
    "print(\"Confusion matrix:\")\n",
    "print(confusion_matrix(y_encoded, y_pred))"
   ],
   "metadata": {
    "collapsed": false,
    "ExecuteTime": {
     "end_time": "2023-11-06T14:05:07.319365619Z",
     "start_time": "2023-11-06T14:05:07.239678818Z"
    }
   },
   "id": "cb417ed696ca011d"
  },
  {
   "cell_type": "code",
   "execution_count": 63,
   "outputs": [
    {
     "name": "stdout",
     "output_type": "stream",
     "text": [
      "Classification report:\n",
      "              precision    recall  f1-score   support\n",
      "\n",
      "           0       0.67      1.00      0.81       143\n",
      "           1       1.00      0.10      0.19        77\n",
      "\n",
      "    accuracy                           0.69       220\n",
      "   macro avg       0.84      0.55      0.50       220\n",
      "weighted avg       0.79      0.69      0.59       220\n"
     ]
    }
   ],
   "source": [
    "print(\"Classification report:\")\n",
    "print(classification_report(y_encoded, y_pred))"
   ],
   "metadata": {
    "collapsed": false,
    "ExecuteTime": {
     "end_time": "2023-11-06T14:05:07.319732426Z",
     "start_time": "2023-11-06T14:05:07.239774920Z"
    }
   },
   "id": "d1ded04e2616b890"
  },
  {
   "cell_type": "markdown",
   "source": [
    "# Use sklearn to create an MLP Classifier"
   ],
   "metadata": {
    "collapsed": false
   },
   "id": "f59efc73c33c2ee2"
  },
  {
   "cell_type": "code",
   "execution_count": 64,
   "outputs": [
    {
     "name": "stdout",
     "output_type": "stream",
     "text": [
      "Best parameters set found via cross-validation:\n",
      "{'activation': 'identity', 'hidden_layer_sizes': (3, 4), 'max_iter': 100000, 'solver': 'sgd'}\n"
     ]
    }
   ],
   "source": [
    "from sklearn.model_selection import GridSearchCV\n",
    "import sklearn.neural_network as nn\n",
    "from sklearn.metrics import classification_report, confusion_matrix\n",
    "\n",
    "# Use cross validation to find the best parameters\n",
    "param_grid = {'hidden_layer_sizes': [(2, 3), (3, 3), (3, 4), (4, 4), (4, 5), (5, 5), (5, 6), (6, 6), (6, 7),\n",
    "                                     (7, 7), (7, 8), (8, 8), (8, 9), (9, 9), (9, 10), (10, 10)],\n",
    "              'activation': ['identity', 'tanh', 'relu'],\n",
    "              'solver': ['lbfgs', 'sgd'],\n",
    "              'max_iter': [100000]}\n",
    "grid = GridSearchCV(nn.MLPClassifier(), param_grid, cv=5, n_jobs=-1)\n",
    "grid.fit(X_train, y_train)\n",
    "\n",
    "print(\"Best parameters set found via cross-validation:\")\n",
    "print(grid.best_params_)"
   ],
   "metadata": {
    "collapsed": false,
    "ExecuteTime": {
     "end_time": "2023-11-06T14:05:19.010883239Z",
     "start_time": "2023-11-06T14:05:07.239904895Z"
    }
   },
   "id": "e670a56089e51a02"
  },
  {
   "cell_type": "code",
   "execution_count": 65,
   "outputs": [
    {
     "name": "stdout",
     "output_type": "stream",
     "text": [
      "Confusion matrix:\n",
      "[[26  0]\n",
      " [ 3 15]]\n"
     ]
    }
   ],
   "source": [
    "# Evaluate the model\n",
    "y_pred = grid.predict(X_test)\n",
    "\n",
    "print(\"Confusion matrix:\")\n",
    "print(confusion_matrix(y_test, y_pred))"
   ],
   "metadata": {
    "collapsed": false,
    "ExecuteTime": {
     "end_time": "2023-11-06T14:05:19.056109865Z",
     "start_time": "2023-11-06T14:05:19.015137271Z"
    }
   },
   "id": "c7d008772236c518"
  },
  {
   "cell_type": "code",
   "execution_count": 66,
   "outputs": [
    {
     "name": "stdout",
     "output_type": "stream",
     "text": [
      "Classification report:\n",
      "              precision    recall  f1-score   support\n",
      "\n",
      "          cp       0.90      1.00      0.95        26\n",
      "          im       1.00      0.83      0.91        18\n",
      "\n",
      "    accuracy                           0.93        44\n",
      "   macro avg       0.95      0.92      0.93        44\n",
      "weighted avg       0.94      0.93      0.93        44\n"
     ]
    }
   ],
   "source": [
    "print(\"Classification report:\")\n",
    "print(classification_report(y_test, y_pred))"
   ],
   "metadata": {
    "collapsed": false,
    "ExecuteTime": {
     "end_time": "2023-11-06T14:05:19.056515922Z",
     "start_time": "2023-11-06T14:05:19.055635713Z"
    }
   },
   "id": "b31b73f5d56d9973"
  }
 ],
 "metadata": {
  "kernelspec": {
   "display_name": "Python 3",
   "language": "python",
   "name": "python3"
  },
  "language_info": {
   "codemirror_mode": {
    "name": "ipython",
    "version": 2
   },
   "file_extension": ".py",
   "mimetype": "text/x-python",
   "name": "python",
   "nbconvert_exporter": "python",
   "pygments_lexer": "ipython2",
   "version": "2.7.6"
  }
 },
 "nbformat": 4,
 "nbformat_minor": 5
}
