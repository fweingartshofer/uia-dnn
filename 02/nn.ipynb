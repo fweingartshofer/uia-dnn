{
 "cells": [
  {
   "cell_type": "markdown",
   "source": [
    "# Neural Networks\n",
    "\n",
    "In this task you are suppose to implement 2 types of mulilayer Perceptrons: \n",
    "\n",
    "1. Using only Python. \n",
    "2. Using a high level library\n",
    "\n",
    "Download the Ecoli dataset: https://archive.ics.uci.edu/ml/datasets/Ecoli\n",
    "* Predict the two classes: cp and im (remove the rest of the dataset).\n",
    "* Make the necessary adjustments to the data.\n",
    "* Implement and test a Multilayer Perceptron from scratch using only Python and standard libraries (do not train this).\n",
    "* Implement, train and test a Multilayer Perceptron using a high level library (e.g., Torch, Keras, TensorFlow).\n",
    "* Choose the network architecture with care.\n",
    "* Train and validate all algorithms.\n",
    "* Make the necessary assumptions."
   ],
   "metadata": {
    "collapsed": false
   },
   "id": "1350cac048a90b27"
  },
  {
   "cell_type": "markdown",
   "source": [
    "# Load the data"
   ],
   "metadata": {
    "collapsed": false
   },
   "id": "fb933a2f39695394"
  },
  {
   "cell_type": "code",
   "execution_count": 57,
   "outputs": [
    {
     "name": "stdout",
     "output_type": "stream",
     "text": [
      "        1     2     3    4     5     6     7   8\n",
      "0    0.49  0.29  0.48  0.5  0.56  0.24  0.35  cp\n",
      "1    0.07  0.40  0.48  0.5  0.54  0.35  0.44  cp\n",
      "2    0.56  0.40  0.48  0.5  0.49  0.37  0.46  cp\n",
      "3    0.59  0.49  0.48  0.5  0.52  0.45  0.36  cp\n",
      "4    0.23  0.32  0.48  0.5  0.55  0.25  0.35  cp\n",
      "..    ...   ...   ...  ...   ...   ...   ...  ..\n",
      "215  0.10  0.49  0.48  0.5  0.41  0.67  0.21  im\n",
      "216  0.30  0.51  0.48  0.5  0.42  0.61  0.34  im\n",
      "217  0.61  0.47  0.48  0.5  0.00  0.80  0.32  im\n",
      "218  0.63  0.75  0.48  0.5  0.64  0.73  0.66  im\n",
      "219  0.71  0.52  0.48  0.5  0.64  1.00  0.99  im\n",
      "\n",
      "[220 rows x 8 columns]\n"
     ]
    }
   ],
   "source": [
    "import pandas as pd\n",
    "\n",
    "df = pd.read_csv('ecoli/ecoli.data', header=None, delim_whitespace=True)\n",
    "\n",
    "# Remove all rows not containing everything except cp and im and drop the non-numeric columns but keep label\n",
    "df = df[df[8].isin(['cp', 'im'])].drop([0], axis=1)\n",
    "print(df)"
   ],
   "metadata": {
    "collapsed": false,
    "ExecuteTime": {
     "end_time": "2023-08-30T09:14:21.805633436Z",
     "start_time": "2023-08-30T09:14:21.736379029Z"
    }
   },
   "id": "d2aa7047176b8b14"
  },
  {
   "cell_type": "markdown",
   "source": [
    "# Shuffle the data and split into training and test data"
   ],
   "metadata": {
    "collapsed": false
   },
   "id": "189375af9f1700b8"
  },
  {
   "cell_type": "code",
   "execution_count": 58,
   "outputs": [],
   "source": [
    "# Shuffle the data\n",
    "df = df.sample(frac=1).reset_index(drop=True)\n",
    "y = df.iloc[:, -1]\n",
    "X = df.iloc[:, :-1]\n",
    "\n",
    "# Split the data into training and test data 80/20\n",
    "X_train = X.iloc[:int(len(X)*0.8)]\n",
    "X_test = X.iloc[int(len(X)*0.8):]\n",
    "y_train = y.iloc[:int(len(y)*0.8)]\n",
    "y_test = y.iloc[int(len(y)*0.8):]"
   ],
   "metadata": {
    "collapsed": false,
    "ExecuteTime": {
     "end_time": "2023-08-30T09:14:21.818075299Z",
     "start_time": "2023-08-30T09:14:21.783417016Z"
    }
   },
   "id": "5fa1b69e9c43b2b0"
  },
  {
   "cell_type": "markdown",
   "source": [],
   "metadata": {
    "collapsed": false
   },
   "id": "57d7532d56224328"
  },
  {
   "cell_type": "markdown",
   "source": [
    "# Use sklearn to create an MLP Classifier"
   ],
   "metadata": {
    "collapsed": false
   },
   "id": "f59efc73c33c2ee2"
  },
  {
   "cell_type": "code",
   "execution_count": 59,
   "outputs": [
    {
     "name": "stdout",
     "output_type": "stream",
     "text": [
      "{'activation': 'relu', 'hidden_layer_sizes': (4, 5), 'max_iter': 100000, 'solver': 'lbfgs'}\n"
     ]
    }
   ],
   "source": [
    "from sklearn.model_selection import GridSearchCV\n",
    "import sklearn.neural_network as nn\n",
    "from sklearn.metrics import classification_report, confusion_matrix\n",
    "\n",
    "# Use cross validation to find the best parameters\n",
    "param_grid = {'hidden_layer_sizes': [(2, 3), (3, 3), (3, 4), (4, 4), (4, 5), (5, 5), (5, 6), (6, 6), (6, 7),\n",
    "                                      (7, 7), (7, 8), (8, 8), (8, 9), (9, 9), (9, 10), (10, 10)],\n",
    "               'activation': ['identity', 'tanh', 'relu'],\n",
    "               'solver': ['lbfgs', 'sgd'],\n",
    "               'max_iter': [100000]}\n",
    "grid = GridSearchCV(nn.MLPClassifier(), param_grid, cv=5, n_jobs=-1)\n",
    "grid.fit(X_train, y_train)\n",
    "print(grid.best_params_)"
   ],
   "metadata": {
    "collapsed": false,
    "ExecuteTime": {
     "end_time": "2023-08-30T09:14:31.681192189Z",
     "start_time": "2023-08-30T09:14:21.783602235Z"
    }
   },
   "id": "e670a56089e51a02"
  },
  {
   "cell_type": "code",
   "execution_count": 60,
   "outputs": [
    {
     "name": "stdout",
     "output_type": "stream",
     "text": [
      "[[27  1]\n",
      " [ 0 16]]\n",
      "              precision    recall  f1-score   support\n",
      "\n",
      "          cp       1.00      0.96      0.98        28\n",
      "          im       0.94      1.00      0.97        16\n",
      "\n",
      "    accuracy                           0.98        44\n",
      "   macro avg       0.97      0.98      0.98        44\n",
      "weighted avg       0.98      0.98      0.98        44\n"
     ]
    }
   ],
   "source": [
    "# Evaluate the model\n",
    "y_pred = grid.predict(X_test)\n",
    "print(confusion_matrix(y_test, y_pred))\n",
    "print(classification_report(y_test, y_pred))"
   ],
   "metadata": {
    "collapsed": false,
    "ExecuteTime": {
     "end_time": "2023-08-30T09:14:31.731907386Z",
     "start_time": "2023-08-30T09:14:31.687723879Z"
    }
   },
   "id": "b31b73f5d56d9973"
  }
 ],
 "metadata": {
  "kernelspec": {
   "display_name": "Python 3",
   "language": "python",
   "name": "python3"
  },
  "language_info": {
   "codemirror_mode": {
    "name": "ipython",
    "version": 2
   },
   "file_extension": ".py",
   "mimetype": "text/x-python",
   "name": "python",
   "nbconvert_exporter": "python",
   "pygments_lexer": "ipython2",
   "version": "2.7.6"
  }
 },
 "nbformat": 4,
 "nbformat_minor": 5
}
