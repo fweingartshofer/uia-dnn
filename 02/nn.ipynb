{
 "cells": [
  {
   "cell_type": "markdown",
   "source": [
    "# Neural Networks\n",
    "\n",
    "In this task you are suppose to implement 2 types of mulilayer Perceptrons: \n",
    "\n",
    "1. Using only Python. \n",
    "2. Using a high level library\n",
    "\n",
    "Download the Ecoli dataset: https://archive.ics.uci.edu/ml/datasets/Ecoli\n",
    "* Predict the two classes: cp and im (remove the rest of the dataset).\n",
    "* Make the necessary adjustments to the data.\n",
    "* Implement and test a Multilayer Perceptron from scratch using only Python and standard libraries (do not train this).\n",
    "* Implement, train and test a Multilayer Perceptron using a high level library (e.g., Torch, Keras, TensorFlow).\n",
    "* Choose the network architecture with care.\n",
    "* Train and validate all algorithms.\n",
    "* Make the necessary assumptions."
   ],
   "metadata": {
    "collapsed": false
   },
   "id": "1350cac048a90b27"
  },
  {
   "cell_type": "code",
   "execution_count": null,
   "outputs": [],
   "source": [],
   "metadata": {
    "collapsed": false
   },
   "id": "d2aa7047176b8b14"
  }
 ],
 "metadata": {
  "kernelspec": {
   "display_name": "Python 3",
   "language": "python",
   "name": "python3"
  },
  "language_info": {
   "codemirror_mode": {
    "name": "ipython",
    "version": 2
   },
   "file_extension": ".py",
   "mimetype": "text/x-python",
   "name": "python",
   "nbconvert_exporter": "python",
   "pygments_lexer": "ipython2",
   "version": "2.7.6"
  }
 },
 "nbformat": 4,
 "nbformat_minor": 5
}
