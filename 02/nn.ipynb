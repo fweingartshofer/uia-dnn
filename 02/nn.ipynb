{
 "cells": [
  {
   "cell_type": "markdown",
   "source": [
    "# Neural Networks\n",
    "\n",
    "In this task you are suppose to implement 2 types of mulilayer Perceptrons: \n",
    "\n",
    "1. Using only Python. \n",
    "2. Using a high level library\n",
    "\n",
    "Download the Ecoli dataset: https://archive.ics.uci.edu/ml/datasets/Ecoli\n",
    "* Predict the two classes: cp and im (remove the rest of the dataset).\n",
    "* Make the necessary adjustments to the data.\n",
    "* Implement and test a Multilayer Perceptron from scratch using only Python and standard libraries (do not train this).\n",
    "* Implement, train and test a Multilayer Perceptron using a high level library (e.g., Torch, Keras, TensorFlow).\n",
    "* Choose the network architecture with care.\n",
    "* Train and validate all algorithms.\n",
    "* Make the necessary assumptions."
   ],
   "metadata": {
    "collapsed": false
   },
   "id": "1350cac048a90b27"
  },
  {
   "cell_type": "code",
   "execution_count": 12,
   "outputs": [
    {
     "name": "stdout",
     "output_type": "stream",
     "text": [
      "        1     2     3    4     5     6     7   8\n",
      "0    0.49  0.29  0.48  0.5  0.56  0.24  0.35  cp\n",
      "1    0.07  0.40  0.48  0.5  0.54  0.35  0.44  cp\n",
      "2    0.56  0.40  0.48  0.5  0.49  0.37  0.46  cp\n",
      "3    0.59  0.49  0.48  0.5  0.52  0.45  0.36  cp\n",
      "4    0.23  0.32  0.48  0.5  0.55  0.25  0.35  cp\n",
      "..    ...   ...   ...  ...   ...   ...   ...  ..\n",
      "215  0.10  0.49  0.48  0.5  0.41  0.67  0.21  im\n",
      "216  0.30  0.51  0.48  0.5  0.42  0.61  0.34  im\n",
      "217  0.61  0.47  0.48  0.5  0.00  0.80  0.32  im\n",
      "218  0.63  0.75  0.48  0.5  0.64  0.73  0.66  im\n",
      "219  0.71  0.52  0.48  0.5  0.64  1.00  0.99  im\n",
      "\n",
      "[220 rows x 8 columns]\n"
     ]
    }
   ],
   "source": [
    "import pandas as pd\n",
    "\n",
    "df = pd.read_csv('ecoli/ecoli.data', header=None, delim_whitespace=True)\n",
    "\n",
    "# Remove all rows not containing everything except cp and im and drop the non-numeric columns but keep label\n",
    "df = df[df[8].isin(['cp', 'im'])].drop([0], axis=1)\n",
    "print(df)"
   ],
   "metadata": {
    "collapsed": false,
    "ExecuteTime": {
     "end_time": "2023-08-30T08:46:33.876425496Z",
     "start_time": "2023-08-30T08:46:33.833959876Z"
    }
   },
   "id": "d2aa7047176b8b14"
  },
  {
   "cell_type": "code",
   "execution_count": 13,
   "outputs": [],
   "source": [
    "# Shuffle the data\n",
    "df = df.sample(frac=1).reset_index(drop=True)\n",
    "y = df.iloc[:, -1]\n",
    "X = df.iloc[:, :-1]\n",
    "\n",
    "\n",
    "# Split the data into training and test data 80/20\n",
    "X_train = X.iloc[:int(len(X)*0.8)]\n",
    "X_test = X.iloc[int(len(X)*0.8):]\n",
    "y_train = y.iloc[:int(len(y)*0.8)]\n",
    "y_test = y.iloc[int(len(y)*0.8):]"
   ],
   "metadata": {
    "collapsed": false,
    "ExecuteTime": {
     "end_time": "2023-08-30T08:46:33.883845146Z",
     "start_time": "2023-08-30T08:46:33.875893934Z"
    }
   },
   "id": "5fa1b69e9c43b2b0"
  }
 ],
 "metadata": {
  "kernelspec": {
   "display_name": "Python 3",
   "language": "python",
   "name": "python3"
  },
  "language_info": {
   "codemirror_mode": {
    "name": "ipython",
    "version": 2
   },
   "file_extension": ".py",
   "mimetype": "text/x-python",
   "name": "python",
   "nbconvert_exporter": "python",
   "pygments_lexer": "ipython2",
   "version": "2.7.6"
  }
 },
 "nbformat": 4,
 "nbformat_minor": 5
}
